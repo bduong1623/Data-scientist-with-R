{
 "cells": [
  {
   "cell_type": "markdown",
   "id": "02c99a41-01db-4a9e-892d-66092eff1145",
   "metadata": {},
   "source": [
    "<a id=\"ref0\"></a>\n",
    "\n",
    "<h2 id=\"http\">Overview of HTTP</h2>\n",
    "\n",
    "When the **client** uses a web page your browser sends an **HTTP** request to the **server** where the page is hosted. The server tries to find the desired **resource** such as the home page (index.html). \n",
    "\n",
    "If your request is successful, the server will send the resource to the client in an **HTTP response**; this includes information like the type of the **resource**, the length of the **resource**, and other information.   \n",
    "\n",
    "<p>\n",
    "The figure below represents the process; the circle on the left represents the client, the circle on the right represents the  Web server.  The table under the Web server represents a list of resources stored in the web server. In  this case an <code>HTML</code> file, <code>png</code> image, and <code>txt</code> file .\n",
    "</p>\n",
    "<p>\n",
    "The <b>HTTP</b> protocol allows you to send and receive information through the web including webpages, images, and other web resources.\n",
    "</p\n",
    "\n"
   ]
  },
  {
   "cell_type": "markdown",
   "id": "f1b0de4f-c980-47cf-9b84-99595d3c6555",
   "metadata": {},
   "source": [
    "<center>\n",
    "    <img src=\"https://fpt.edu.vn/Resources/brand/uploads/749540_132829686029858301_o.jpg\" width=\"500\" alt=\"cognitiveclass.ai logo\"  />\n",
    "</center>\n",
    "\n",
    "# Lab 1: WebScraping\n",
    "\n",
    "<br>\n",
    "\n",
    "#### Class name: ______________________\n",
    "\n",
    "#### Student code: ____________________\n",
    "\n",
    "#### Student name: ___________________\n",
    "\n",
    "<br>\n",
    "\n",
    "## Objectives\n",
    "\n",
    "After completing this lab you will be able to:\n",
    "\n",
    "* Understand HTML via coding practice\n",
    "* Handle the HTTP Requests and response using R\n",
    "* Perform basic webscraping using rvest\n",
    "\n",
    "\n",
    "Estimated time needed: **60** minutes\n",
    "<h4 style='color:red; font-weight:bold'>DO NOT CHEAT! 1 point for anybody copy or share code</h4>"
   ]
  },
  {
   "cell_type": "markdown",
   "id": "283adcf0-7cac-4887-8feb-61ad53842f73",
   "metadata": {},
   "source": [
    "<h2 id=\"#httr\">The httr library</h2>\n",
    "\n",
    "`httr` is a R library that allows you to build and send <code>HTTP</code> requests, as well as process <code>HTTP</code> requests easily.  We can import the package as follows (may take less than minute to import):"
   ]
  },
  {
   "cell_type": "code",
   "execution_count": 4,
   "id": "e5926a87-2496-4e20-9556-ae0e5ed20fde",
   "metadata": {},
   "outputs": [
    {
     "name": "stdout",
     "output_type": "stream",
     "text": [
      "\n",
      "  There is a binary version available (and will be installed) but the\n",
      "  source version is later:\n",
      "     binary source\n",
      "httr  1.4.2  1.4.7\n",
      "\n",
      "package 'httr' successfully unpacked and MD5 sums checked\n",
      "\n",
      "The downloaded binary packages are in\n",
      "\tC:\\Users\\KDA\\AppData\\Local\\Temp\\RtmpGuopRA\\downloaded_packages\n",
      "\n",
      "  There is a binary version available (and will be installed) but the\n",
      "  source version is later:\n",
      "      binary source\n",
      "rvest  1.0.0  1.0.3\n",
      "\n",
      "package 'rvest' successfully unpacked and MD5 sums checked\n",
      "\n",
      "The downloaded binary packages are in\n",
      "\tC:\\Users\\KDA\\AppData\\Local\\Temp\\RtmpGuopRA\\downloaded_packages\n"
     ]
    }
   ],
   "source": [
    "# This lab require some library packages. If error happen when running please uncomment lines below to install them:\n",
    " install.packages(\"httr\", type = \"binary\")\n",
    " install.packages(\"rvest\", type=\"binary\")\n"
   ]
  },
  {
   "cell_type": "code",
   "execution_count": 5,
   "id": "03dc822c-7e15-4544-be87-97a17f97bd22",
   "metadata": {
    "tags": []
   },
   "outputs": [
    {
     "name": "stderr",
     "output_type": "stream",
     "text": [
      "Warning message:\n",
      "\"package 'httr' was built under R version 3.6.3\"Warning message:\n",
      "\"package 'rvest' was built under R version 3.6.3\""
     ]
    }
   ],
   "source": [
    "library(httr)\n",
    "library(rvest)"
   ]
  },
  {
   "cell_type": "markdown",
   "id": "dc793706-ce60-4b1a-a031-6c05d28e0f2b",
   "metadata": {},
   "source": [
    "## 1. Example code"
   ]
  },
  {
   "cell_type": "code",
   "execution_count": 6,
   "id": "8fcbf1af-2865-44ba-966e-c1ae835b3721",
   "metadata": {
    "tags": []
   },
   "outputs": [
    {
     "name": "stdout",
     "output_type": "stream",
     "text": [
      "[1] \"Time: 2024-01-15 03:10:13\"\n",
      "[1] \"URL link: https://fap.fpt.edu.vn/\"\n",
      "[1] \"Status code: 200\"\n"
     ]
    }
   ],
   "source": [
    "url <- 'https://fap.fpt.edu.vn/'\n",
    "response<-GET(url, encodeString='unicode')\n",
    "\n",
    "print(sprintf(\"Time: %s\", response$date))\n",
    "print(sprintf(\"URL link: %s\", response$url))\n",
    "print(sprintf(\"Status code: %d\", response$status_code))"
   ]
  },
  {
   "cell_type": "code",
   "execution_count": 7,
   "id": "00ad1058-07c5-45f4-9611-944170c22c89",
   "metadata": {
    "tags": []
   },
   "outputs": [
    {
     "name": "stdout",
     "output_type": "stream",
     "text": [
      "[1] \"List of FPT University campus: \"\n",
      "[1] \"FU-Hòa L<U+1EA1>c\"\n",
      "[1] \"FU-H<U+1ED3> Chí Minh\"\n",
      "[1] \"FU-Ðà N<U+1EB5>ng\"\n",
      "[1] \"FU-C<U+1EA7>n Tho\"\n",
      "[1] \"FU-Quy Nhon\"\n"
     ]
    }
   ],
   "source": [
    "root <- read_html(response)\n",
    "options_node <- html_nodes(root, \"option\")\n",
    "values <- c()\n",
    "print(\"List of FPT University campus: \")\n",
    "for(node in options_node){\n",
    "    v <- as.integer(html_attr(node, \"value\"))\n",
    "    if(!is.na(v) && !(v %in% values)){\n",
    "        values<- c(values, v)\n",
    "        print(html_text(node))\n",
    "    }\n",
    "}"
   ]
  },
  {
   "cell_type": "markdown",
   "id": "c0ca96fd-aa83-4c97-9102-ff9a4363dbe2",
   "metadata": {},
   "source": [
    "## 2. Data source\n",
    "Implement that code by change the URL\n",
    "\n",
    "* https://webtygia.com/\n",
    "\n",
    "* https://giavang.org/\n",
    "\n",
    "* https://tygiadola.net/giavang/gia-vang-hom-nay\n",
    "\n",
    "* https://nongnghiep.vn/bang-gia-vang-sjc-9999-24k-18k-14k-10k-hom-nay-24-10-2022-d335344.html\n",
    "\n",
    "or any other URL that you can find!\n"
   ]
  },
  {
   "cell_type": "markdown",
   "id": "fbaa72a7-3d1b-4f86-aaa0-7266e795122b",
   "metadata": {},
   "source": [
    "## 3. Tasks"
   ]
  },
  {
   "cell_type": "markdown",
   "id": "57795be9-2732-4359-a70c-be85ac9f6ae8",
   "metadata": {},
   "source": [
    "#### 3.1 Getting the data\n",
    "\n",
    "Using Webscraping to crawling data of SJC gold price in major cities and provinces in Vietnam. The data should have more than 10 records. Display a table to show the data. "
   ]
  },
  {
   "cell_type": "code",
   "execution_count": 5,
   "id": "8d0559cf-26af-4736-a8f3-d705eb2eaf7e",
   "metadata": {},
   "outputs": [],
   "source": [
    "# Enter code here\n"
   ]
  },
  {
   "cell_type": "markdown",
   "id": "463a4276-9163-4e87-9b55-d9519289ab86",
   "metadata": {},
   "source": [
    "#### 3.2 Which province has the highest gold selling price?"
   ]
  },
  {
   "cell_type": "code",
   "execution_count": null,
   "id": "4d82f0f7-6618-4461-affa-bf033913f2e8",
   "metadata": {},
   "outputs": [],
   "source": [
    "# Enter code here\n"
   ]
  },
  {
   "cell_type": "markdown",
   "id": "61e622db-e0ff-482a-b8b5-af5de8203451",
   "metadata": {},
   "source": [
    "#### 3.3 Which provinces have the biggest difference in selling and buying prices?"
   ]
  },
  {
   "cell_type": "code",
   "execution_count": null,
   "id": "e3e9c56d-c635-4678-921e-a09d5e9e45b9",
   "metadata": {},
   "outputs": [],
   "source": [
    "# Enter code here\n"
   ]
  },
  {
   "cell_type": "markdown",
   "id": "8e55cbd5-288d-452e-a99a-512d33bb9493",
   "metadata": {},
   "source": [
    "#### 3.4 Find all the province has selling price below average"
   ]
  },
  {
   "cell_type": "code",
   "execution_count": null,
   "id": "dfc8b0ca-783b-4402-be30-69aa9fcaaa57",
   "metadata": {},
   "outputs": [],
   "source": [
    "# Enter code here\n"
   ]
  },
  {
   "cell_type": "markdown",
   "id": "e031c33d-ba10-4b44-a3fe-8fd3a29c23b4",
   "metadata": {},
   "source": [
    "#### 3.5 Find the difference between highest buying price and lowest selling price of all provinces"
   ]
  },
  {
   "cell_type": "code",
   "execution_count": null,
   "id": "ab84e8fe-dc8c-4c26-ae62-99871ec3f29e",
   "metadata": {},
   "outputs": [],
   "source": [
    "# Enter code here\n"
   ]
  },
  {
   "cell_type": "markdown",
   "id": "48c8e44c-2e57-4e27-beda-457c3ed6e2cd",
   "metadata": {},
   "source": [
    "## Author\n",
    "\n",
    "#### <a href=\"\" target=\"_blank\"></a>\n",
    "\n",
    "## Change Log\n",
    "\n",
    "| Date (YYYY-MM-DD) | Version | Changed By | Change Description                 |\n",
    "| ----------------- | ------- | ---------- | ---------------------------------- |\n",
    "| 2024-01-10        | 2.1     |     | Create the 2.1st version             |\n",
    "|                   |         |            |                                    |\n",
    "|                   |         |            |                                    |\n",
    "\n",
    "<hr>\n",
    "\n",
    "## <h3 align=\"center\"> © FPT University. All rights reserved. <h3/>\n"
   ]
  },
  {
   "cell_type": "code",
   "execution_count": null,
   "id": "2cb51cc1-6462-42dc-bd38-225afb8eb8ac",
   "metadata": {},
   "outputs": [],
   "source": []
  }
 ],
 "metadata": {
  "kernelspec": {
   "display_name": "R",
   "language": "R",
   "name": "ir"
  },
  "language_info": {
   "codemirror_mode": "r",
   "file_extension": ".r",
   "mimetype": "text/x-r-source",
   "name": "R",
   "pygments_lexer": "r",
   "version": "3.6.1"
  }
 },
 "nbformat": 4,
 "nbformat_minor": 5
}
