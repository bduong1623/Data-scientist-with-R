{
 "cells": [
  {
   "cell_type": "markdown",
   "metadata": {},
   "source": [
    "<p style=\"text-align:center\">\n",
    "    <a href=\"https://skills.network/?utm_medium=Exinfluencer&utm_source=Exinfluencer&utm_content=000026UJ&utm_term=10006555&utm_id=NA-SkillsNetwork-Channel-SkillsNetworkCoursesIBMDeveloperSkillsNetworkRP0103ENSkillsNetwork896-2023-01-01\">\n",
    "    <img src=\"https://cf-courses-data.s3.us.cloud-object-storage.appdomain.cloud/assets/logos/SN_web_lightmode.png\" width=\"200\" alt=\"Skills Network Logo\"  />\n",
    "    </a>\n",
    "</p>\n",
    "\n",
    "<h1 align=center> <font size = 6>Hands-on Lab: Accessing Your Database using RJDBC</font></h1>\n"
   ]
  },
  {
   "cell_type": "markdown",
   "metadata": {},
   "source": [
    "### Welcome!\n",
    "\n",
    "In this hands-on lab, we will discover how to connect and query data from database servers with R using RJDBC.\n"
   ]
  },
  {
   "cell_type": "markdown",
   "metadata": {},
   "source": [
    "<div class=\"alert alert-block alert-info\" style=\"margin-top: 20px\">\n",
    "<h3>Tasks</h3>\n",
    "<ol><ol><ol>\n",
    "<li><a href=\"#refa\">Load the RJDBC library</a></li>\n",
    "<li><a href=\"#refb\">Provide database credentials</a></li>\n",
    "<li><a href=\"#refc\">Connect to the database</a></li>\n",
    "<li><a href=\"#refd\">Execute a Query (and retrieve results)</a></li>\n",
    "<li><a href=\"#refe\">Dis-connect</a></li>\n",
    "</ol></ol></ol>\n",
    "<p></p>\n",
    "Estimated Time Needed: <strong>10 min</strong>\n",
    "</div>\n"
   ]
  },
  {
   "cell_type": "markdown",
   "metadata": {},
   "source": [
    "**Pre-requisite**: In this lab we will use Jupyter Notebooks within SN Labs to access data in a Db2 on Cloud database using RJDBC.  Information about Jupyter notebooks, SN Labs, and Db2 services is provided in the previous labs.\n"
   ]
  },
  {
   "cell_type": "markdown",
   "metadata": {},
   "source": [
    "<a id=\"refa\"></a>\n",
    "\n",
    "### a. Load the RJDBC library\n",
    "\n",
    "The RJDBC package is pre-installed in SN Labs. Let’s load the RJDBC package by clicking on the following cell and executing it (Shift+Enter):\n",
    "\n",
    "> Note: If you want to execute the lab in your local system you need to install RJDBC and required libraries using the code **install.packages(libraryname)**\n"
   ]
  },
  {
   "cell_type": "code",
   "execution_count": 1,
   "metadata": {
    "tags": []
   },
   "outputs": [
    {
     "ename": "NameError",
     "evalue": "name 'library' is not defined",
     "output_type": "error",
     "traceback": [
      "\u001b[1;31m---------------------------------------------------------------------------\u001b[0m",
      "\u001b[1;31mNameError\u001b[0m                                 Traceback (most recent call last)",
      "Cell \u001b[1;32mIn[1], line 1\u001b[0m\n\u001b[1;32m----> 1\u001b[0m library(DBI);\n\u001b[0;32m      2\u001b[0m library(rJava);\n\u001b[0;32m      3\u001b[0m library(RJDBC)\n",
      "\u001b[1;31mNameError\u001b[0m: name 'library' is not defined"
     ]
    }
   ],
   "source": [
    "library(DBI);\n",
    "library(rJava);\n",
    "library(RJDBC);"
   ]
  },
  {
   "cell_type": "markdown",
   "metadata": {},
   "source": [
    "### b. Provide database credentials\n",
    "\n",
    "To connect to your Db2 instance, you require the following details:\n",
    "* Driver class\n",
    "* Database name\n",
    "* Hostname\n",
    "* Port number\n",
    "* Protocol\n",
    "* Username\n",
    "* Password\n",
    "\n",
    "We will be using different variables to store this information, so that we can use these values at a later point of time when required.\n",
    "\n",
    "Replace the values for **hostname, port number, username and password** by copying them from Service Credentials in your DB2 instance. \n",
    "\n",
    "For instructions on accessing **Db2 Service Credentials**, go to <a href=\"https://cf-courses-data.s3.us.cloud-object-storage.appdomain.cloud/IBMDeveloperSkillsNetwork-DB0201EN-SkillsNetwork/labs/Module%205/LAB-0v6_Create_Database_Credentials.md.html?origin=www.coursera.org\">Hands-on Lab: Create Db2 Service Credentials.</a>\n",
    "\n",
    ">Note:This is just an example screenshot of service credentials. However these values will vary with respect to the DB2 instance which you create.\n",
    "\n",
    "\n",
    "\n",
    "\n"
   ]
  },
  {
   "cell_type": "markdown",
   "metadata": {},
   "source": [
    "<details>\n",
    "<summary>Click here to view/hide hint</summary>\n",
    "<p>\n",
    "\n",
    "\n",
    "<img src=\"https://cf-courses-data.s3.us.cloud-object-storage.appdomain.cloud/IBMDeveloperSkillsNetwork-RP0103EN-SkillsNetwork/labs/Lab%20-%20Accessing%20Your%20Database%20using%20RJDBC/images/servicecredentials.png\">\n",
    "    \n",
    "    \n",
    "    \n",
    "</details>\n"
   ]
  },
  {
   "cell_type": "code",
   "execution_count": null,
   "metadata": {
    "tags": []
   },
   "outputs": [],
   "source": [
    "#Enter the values for you database connection\n",
    "dsn_driver = \"com.ibm.db2.jcc.DB2Driver\"\n",
    "dsn_database = \"bludb\"            \n",
    "dsn_hostname = \"<ea286ace-86c7-4d5b-8580-3fbfa46b1c66.bs2io90l08kqb1od8lcg.databases.appdomain.cloud>\"   #replace <yourhostname> with your hostname from the Service credentials\n",
    "dsn_port = \"31505\"                     #replace with the port number from Service Credentials \n",
    "dsn_protocol = \"TCPIP\"            \n",
    "dsn_uid = \"<ZGTLBN2i59E3XqCJ>\"            #replace <username> with your username from Service Credentials\n",
    "dsn_pwd = \"<plp19773>\"            #replace <password> with your password from Service Credentials"
   ]
  },
  {
   "cell_type": "markdown",
   "metadata": {},
   "source": [
    "### c. Connect to the database\n",
    "\n",
    "The next step is to:\n",
    "* **Specify the database driver to be used:** Here, you will use the function **JDBC()** which takes 2 arguments i.e. the **driver classname** and the **classpath to the driver file**\n",
    "* **Create a JDBC connection string:** Here, you will create the connection string to Db2 using details such as hostname, port and database name.\n",
    "\n",
    "We will load the DB2 JDBC type 4 driver and create a driver object\n",
    "\n",
    ">Note: You can download the db2jcc4.jar from the following  <a href =\"https://www.ibm.com/support/pages/db2-jdbc-driver-versions-and-downloads\">link</a> if you want to use it on your local system.\n"
   ]
  },
  {
   "cell_type": "code",
   "execution_count": 15,
   "metadata": {
    "tags": []
   },
   "outputs": [],
   "source": [
    "\n",
    "jcc = JDBC(\"com.ibm.db2.jcc.DB2Driver\", \"/home/jupyterlab/.rlang/db2jcc-db2jcc4.jar\");         #Specifying the Db2 JDBC Type 4 driver  \n",
    "jdbc_path = paste(\"jdbc:db2://\",  dsn_hostname, \":\", dsn_port, \"/\", dsn_database, sep=\"\");"
   ]
  },
  {
   "cell_type": "code",
   "execution_count": 18,
   "metadata": {
    "tags": []
   },
   "outputs": [
    {
     "ename": "ERROR",
     "evalue": "Error in .jcall(drv@jdrv, \"Ljava/sql/Connection;\", \"connect\", as.character(url)[1], : com.ibm.db2.jcc.am.SqlNonTransientConnectionException: [jcc][t4][10380][11951][4.25.13] Required property \"<ea286ace-86c7-4d5b-8580-3fbfa46b1c66.bs2io90l08kqb1od8lcg.databases.appdomain.cloud>\" is unknown host. ERRORCODE=-4222, SQLSTATE=08001\n",
     "output_type": "error",
     "traceback": [
      "Error in .jcall(drv@jdrv, \"Ljava/sql/Connection;\", \"connect\", as.character(url)[1], : com.ibm.db2.jcc.am.SqlNonTransientConnectionException: [jcc][t4][10380][11951][4.25.13] Required property \"<ea286ace-86c7-4d5b-8580-3fbfa46b1c66.bs2io90l08kqb1od8lcg.databases.appdomain.cloud>\" is unknown host. ERRORCODE=-4222, SQLSTATE=08001\nTraceback:\n",
      "1. dbConnect(jcc, jdbc_path, user = dsn_uid, password = dsn_pwd, \n .     sslConnection = \"true\")",
      "2. dbConnect(jcc, jdbc_path, user = dsn_uid, password = dsn_pwd, \n .     sslConnection = \"true\")",
      "3. .local(drv, ...)",
      "4. .jcall(drv@jdrv, \"Ljava/sql/Connection;\", \"connect\", as.character(url)[1], \n .     p)",
      "5. .jcheck(silent = FALSE)"
     ]
    }
   ],
   "source": [
    "conn = dbConnect(jcc, jdbc_path, user=dsn_uid, password=dsn_pwd,sslConnection='true')"
   ]
  },
  {
   "cell_type": "markdown",
   "metadata": {},
   "source": [
    "### d. Execute a Query\n",
    "\n",
    "Here, you will:\n",
    "* **Create a sample query:** Here, you will define a **select** statement to select rows from the Db2 system catalog table **SYSIBM.SYSSCHEMATA**\n",
    "* **Use the function dbSendQuery() to query the table:** dbSendQuery() is a function available in the DBI library. dbSendQuery() function takes 2 arguments: **connection object and the SQL query** defined earlier. It returns the resultset from the database.\n",
    "* **Use the function fetch() to get the results as a dataframe:** fetch() is a function available in the DBI library. This function takes 2 arguments: the **resultset** and the **number of records(n)**. Here, for example if n=2, we are retrieving 2 records from the table. \n",
    "* Here, n=-1 is used to retrieve all pending records.\n"
   ]
  },
  {
   "cell_type": "code",
   "execution_count": 19,
   "metadata": {
    "tags": []
   },
   "outputs": [
    {
     "ename": "ERROR",
     "evalue": "Error in dbSendQuery(conn, query): object 'conn' not found\n",
     "output_type": "error",
     "traceback": [
      "Error in dbSendQuery(conn, query): object 'conn' not found\nTraceback:\n",
      "1. dbSendQuery(conn, query)"
     ]
    }
   ],
   "source": [
    "query = \"SELECT * FROM SYSIBM.SYSSCHEMATA\";\n",
    "rs = dbSendQuery(conn, query);\n",
    "df = fetch(rs, -1);"
   ]
  },
  {
   "cell_type": "markdown",
   "metadata": {},
   "source": [
    "Let’s examine the contents of the dataframe by looking at the first few rows: \n"
   ]
  },
  {
   "cell_type": "code",
   "execution_count": null,
   "metadata": {},
   "outputs": [],
   "source": [
    "head(df)"
   ]
  },
  {
   "cell_type": "markdown",
   "metadata": {},
   "source": [
    "<a id=\"refe\"></a>\n",
    "\n",
    "### e. Dis-connect\n",
    "\n",
    "Finally, as a best practice we should close the database connection once we're done with it.\n"
   ]
  },
  {
   "cell_type": "code",
   "execution_count": null,
   "metadata": {},
   "outputs": [],
   "source": [
    "dbDisconnect(conn)"
   ]
  },
  {
   "cell_type": "markdown",
   "metadata": {},
   "source": [
    "### Practice exercises\n"
   ]
  },
  {
   "cell_type": "markdown",
   "metadata": {},
   "source": [
    "##### 1. Provide the database credentials for your instance of **Db2**\n"
   ]
  },
  {
   "cell_type": "code",
   "execution_count": 20,
   "metadata": {
    "tags": []
   },
   "outputs": [],
   "source": [
    "#write your code here\n",
    "dsn_driver = \"com.ibm.db2.jcc.DB2Driver\"\n",
    "dsn_database = \"bludb\"            \n",
    "dsn_hostname = \"<ea286ace-86c7-4d5b-8580-3fbfa46b1c66.bs2io90l08kqb1od8lcg.databases.appdomain.cloud>\"   #replace <yourhostname> with your hostname from the Service credentials\n",
    "dsn_port = \"31505\"                     #replace with the port number from Service Credentials \n",
    "dsn_protocol = \"TCPIP\"            \n",
    "dsn_uid = \"<ZGTLBN2i59E3XqCJ>\"            #replace <username> with your username from Service Credentials\n",
    "dsn_pwd = \"<plp19773>\"     "
   ]
  },
  {
   "cell_type": "markdown",
   "metadata": {},
   "source": [
    "<details>\n",
    "<summary>Click here to view/hide hint</summary>\n",
    "<p>\n",
    "\n",
    "```\n",
    "# Fill in the following details\n",
    "dsn_driver = \"com.ibm.db2.jcc.DB2Driver\"\n",
    "dsn_database = \"...\"            \n",
    "dsn_hostname = \"<yourhostname>\"  \n",
    "dsn_port = \"...\"               \n",
    "dsn_protocol = \"...\"           \n",
    "dsn_uid = \"<username>\"        \n",
    "dsn_pwd = \"<password>\"      \n",
    "```\n",
    "\n",
    "</details>\n"
   ]
  },
  {
   "cell_type": "markdown",
   "metadata": {},
   "source": [
    "<details>\n",
    "<summary>Click here to view/hide solution</summary>\n",
    "<p>\n",
    "\n",
    "```\n",
    "#Enter the values for you database connection\n",
    "dsn_driver = \"com.ibm.db2.jcc.DB2Driver\"\n",
    "dsn_database = \"bludb\"            # e.g. \"bludb\"\n",
    "dsn_hostname = \"<yourhostname>\"   # e.g. replace <yourhostname> with your hostname\n",
    "dsn_port = \"\"                # e.g. \"3273\" \n",
    "dsn_protocol = \"TCPIP\"            # i.e. \"TCPIP\"\n",
    "dsn_uid = \"<username>\"              # e.g. replace <username> with your userid\n",
    "dsn_pwd = \"<password>\"            # e.g. replace <password> with your password\n",
    "```\n",
    "\n",
    "</details>\n"
   ]
  },
  {
   "cell_type": "markdown",
   "metadata": {},
   "source": [
    "##### 2. Specify the database driver and then create a JDBC connection string.\n"
   ]
  },
  {
   "cell_type": "code",
   "execution_count": 21,
   "metadata": {
    "tags": []
   },
   "outputs": [],
   "source": [
    "#write your code here\n",
    "jcc = JDBC(\"com.ibm.db2.jcc.DB2Driver\", \"/home/jupyterlab/.rlang/db2jcc-db2jcc4.jar\");         #Specifying the Db2 JDBC Type 4 driver  \n",
    "jdbc_path = paste(\"jdbc:db2://\",  dsn_hostname, \":\", dsn_port, \"/\", dsn_database, sep=\"\");"
   ]
  },
  {
   "cell_type": "markdown",
   "metadata": {},
   "source": [
    "<details>\n",
    "<summary>Click here to view/hide hint</summary>\n",
    "<p>\n",
    "\n",
    "```\n",
    "# Fill in the following details\n",
    "jcc = JDBC(\"com.ibm.db2.jcc....r\", \"/home/jupyterlab/.rlang/db2jcc-db2jcc4.jar\");\n",
    "jdbc_path = paste(\"jdbc:db2://\",  dsn_port, \":\", ..., \"/\", dsn_database, ...);\n",
    "```\n",
    "\n",
    "</details>\n"
   ]
  },
  {
   "cell_type": "markdown",
   "metadata": {},
   "source": [
    "<details>\n",
    "<summary>Click here to view/hide solution</summary>\n",
    "<p>\n",
    "\n",
    "```\n",
    "jcc = JDBC(\"com.ibm.db2.jcc.DB2Driver\", \"/home/jupyterlab/.rlang/db2jcc-db2jcc4.jar\");\n",
    "jdbc_path = paste(\"jdbc:db2://\",  dsn_hostname, \":\", dsn_port, \"/\", dsn_database, sep=\"\");\n",
    "```\n",
    "\n",
    "</details>\n"
   ]
  },
  {
   "cell_type": "markdown",
   "metadata": {},
   "source": [
    "##### 3. Connect to the database\n"
   ]
  },
  {
   "cell_type": "code",
   "execution_count": 23,
   "metadata": {
    "tags": []
   },
   "outputs": [
    {
     "ename": "ERROR",
     "evalue": "Error in .jcall(drv@jdrv, \"Ljava/sql/Connection;\", \"connect\", as.character(url)[1], : com.ibm.db2.jcc.am.SqlNonTransientConnectionException: [jcc][t4][10380][11951][4.25.13] Required property \"<ea286ace-86c7-4d5b-8580-3fbfa46b1c66.bs2io90l08kqb1od8lcg.databases.appdomain.cloud>\" is unknown host. ERRORCODE=-4222, SQLSTATE=08001\n",
     "output_type": "error",
     "traceback": [
      "Error in .jcall(drv@jdrv, \"Ljava/sql/Connection;\", \"connect\", as.character(url)[1], : com.ibm.db2.jcc.am.SqlNonTransientConnectionException: [jcc][t4][10380][11951][4.25.13] Required property \"<ea286ace-86c7-4d5b-8580-3fbfa46b1c66.bs2io90l08kqb1od8lcg.databases.appdomain.cloud>\" is unknown host. ERRORCODE=-4222, SQLSTATE=08001\nTraceback:\n",
      "1. dbConnect(jcc, jdbc_path, user = dsn_uid, password = dsn_pwd, \n .     sslConnection = \"true\")",
      "2. dbConnect(jcc, jdbc_path, user = dsn_uid, password = dsn_pwd, \n .     sslConnection = \"true\")",
      "3. .local(drv, ...)",
      "4. .jcall(drv@jdrv, \"Ljava/sql/Connection;\", \"connect\", as.character(url)[1], \n .     p)",
      "5. .jcheck(silent = FALSE)"
     ]
    }
   ],
   "source": [
    "#write your code here\n",
    "conn = dbConnect(jcc, jdbc_path, user=dsn_uid, password=dsn_pwd,sslConnection='true')"
   ]
  },
  {
   "cell_type": "markdown",
   "metadata": {},
   "source": [
    "<details>\n",
    "<summary>Click here to view/hide hint</summary>\n",
    "<p>\n",
    "\n",
    "```\n",
    "# Fill in the ...\n",
    "conn = dbConnect(..., ..., user=..., password=...,sslConnection='true')\n",
    "```\n",
    "\n",
    "</details>\n"
   ]
  },
  {
   "cell_type": "markdown",
   "metadata": {},
   "source": [
    "<details>\n",
    "<summary>Click here to view/hide solution</summary>\n",
    "<p>\n",
    "\n",
    "```\n",
    "conn = dbConnect(jcc, jdbc_path, user=dsn_uid, password=dsn_pwd,sslConnection='true')\n",
    "```\n",
    "\n",
    "</details>\n"
   ]
  },
  {
   "cell_type": "markdown",
   "metadata": {},
   "source": [
    "##### 4. There are many Db2 System Catalog tables. SYSTABLES has got metadata of the system tables. This table can be accessed using table name SYSIBM.SYSTABLES. Execute a query to select all columns from the Db2 system catalog table SYSIBM.SYSTABLES and fetch the first 20 results into an R dataframe\n"
   ]
  },
  {
   "cell_type": "code",
   "execution_count": null,
   "metadata": {},
   "outputs": [],
   "source": [
    "#write your code here"
   ]
  },
  {
   "cell_type": "markdown",
   "metadata": {},
   "source": [
    "<details>\n",
    "<summary>Click here to view/hide hint</summary>\n",
    "<p>\n",
    "\n",
    "```\n",
    "Fill in the ...\n",
    "query = \"SELECT * FROM ...\";\n",
    "rs = dbSendQuery(...);\n",
    "df = fetch(...);\n",
    "```\n",
    "\n",
    "</details>\n"
   ]
  },
  {
   "cell_type": "markdown",
   "metadata": {},
   "source": [
    "<details>\n",
    "<summary>Click here to view/hide solution</summary>\n",
    "<p>\n",
    "\n",
    "```\n",
    "query = \"SELECT * FROM SYSIBM.SYSTABLES\";\n",
    "rs = dbSendQuery(conn,query);\n",
    "df = fetch(rs,20);\n",
    "```\n",
    "</p>\n",
    "</details>\n"
   ]
  },
  {
   "cell_type": "markdown",
   "metadata": {},
   "source": [
    "##### 5. Disconnect from the database\n"
   ]
  },
  {
   "cell_type": "code",
   "execution_count": null,
   "metadata": {},
   "outputs": [],
   "source": [
    "#write your code here"
   ]
  },
  {
   "cell_type": "markdown",
   "metadata": {},
   "source": [
    "<details>\n",
    "<summary>Click here to view/hide hint</summary>\n",
    "<p>\n",
    "\n",
    "```\n",
    "# Fill in the ...\n",
    "dbDisconnect(...)\n",
    "```\n",
    "\n",
    "</details>\n"
   ]
  },
  {
   "cell_type": "markdown",
   "metadata": {},
   "source": [
    "<details>\n",
    "<summary>Click here to view/hide solution</summary>\n",
    "<p>\n",
    "\n",
    "```\n",
    "dbDisconnect(conn)\n",
    "```\n",
    "\n",
    "</details>\n"
   ]
  },
  {
   "cell_type": "markdown",
   "metadata": {},
   "source": [
    "<a id=\"ref4g\"></a>\n",
    "\n",
    "### Summary\n",
    "\n",
    "In this lab you accessed data in a Db2 on Cloud database using RJDBC connection from a R notebook in Jupyter, and fetched the results of a query for analysis in a R dataframe.\n"
   ]
  },
  {
   "cell_type": "markdown",
   "metadata": {},
   "source": [
    "<HR>\n"
   ]
  },
  {
   "cell_type": "markdown",
   "metadata": {},
   "source": [
    "#### Thank you for completing this lab on getting connected and querying databases using RJDBC.\n"
   ]
  },
  {
   "cell_type": "markdown",
   "metadata": {},
   "source": [
    "<hr>\n",
    "\n",
    "## Authors\n",
    "\n",
    "*   [Rav Ahuja](https://ca.linkedin.com/in/rav-ahuja-8aa4562a?utm_medium=Exinfluencer&utm_source=Exinfluencer&utm_content=000026UJ&utm_term=10006555&utm_id=NA-SkillsNetwork-Channel-SkillsNetworkCoursesIBMDeveloperSkillsNetworkRP0103ENSkillsNetwork23619267-2022-01-01&cm_mmc=Email_Newsletter-_-Developer_Ed%2BTech-_-WW_WW-_-SkillsNetwork-Courses-IBMDeveloperSkillsNetwork-RP0103EN-SkillsNetwork-23619267&cm_mmca1=000026UJ&cm_mmca2=10006555&cm_mmca3=M12345678&cvosrc=email.Newsletter.M12345678&cvo_campaign=000026UJ)\n",
    "*   [Agatha Colangelo](https://www.linkedin.com/in/agathacolangelo?utm_medium=Exinfluencer&utm_source=Exinfluencer&utm_content=000026UJ&utm_term=10006555&utm_id=NA-SkillsNetwork-Channel-SkillsNetworkCoursesIBMDeveloperSkillsNetworkRP0103ENSkillsNetwork23619267-2022-01-01&cm_mmc=Email_Newsletter-_-Developer_Ed%2BTech-_-WW_WW-_-SkillsNetwork-Courses-IBMDeveloperSkillsNetwork-RP0103EN-SkillsNetwork-23619267&cm_mmca1=000026UJ&cm_mmca2=10006555&cm_mmca3=M12345678&cvosrc=email.Newsletter.M12345678&cvo_campaign=000026UJ)\n",
    "*   [Sandip Saha Joy](https://www.linkedin.com/in/sandipsahajoy?utm_medium=Exinfluencer&utm_source=Exinfluencer&utm_content=000026UJ&utm_term=10006555&utm_id=NA-SkillsNetwork-Channel-SkillsNetworkCoursesIBMDeveloperSkillsNetworkRP0103ENSkillsNetwork23619267-2022-01-01&cm_mmc=Email_Newsletter-_-Developer_Ed%2BTech-_-WW_WW-_-SkillsNetwork-Courses-IBMDeveloperSkillsNetwork-RP0103EN-SkillsNetwork-23619267&cm_mmca1=000026UJ&cm_mmca2=10006555&cm_mmca3=M12345678&cvosrc=email.Newsletter.M12345678&cvo_campaign=000026UJ)\n",
    "* [Shreya Khurana](https://www.linkedin.com/in/shreya-khurana-437211237/?utm_medium=Exinfluencer&utm_source=Exinfluencer&utm_content=000026UJ&utm_term=10006555&utm_id=NA-SkillsNetwork-Channel-SkillsNetworkCoursesIBMDeveloperSkillsNetworkRP0103ENSkillsNetwork896-2023-01-01)\n",
    "\n",
    "## Changelog\n",
    "\n",
    "| Date (YYYY-MM-DD) | Version | Changed By | Change Description |\n",
    "| ----------------- | ------- | ---------- | ------------------ |\n",
    "| 2023-03-27   | 2.2     | Shreya Khurana        | Created revised version of the lab|\n",
    "| 2021-07-14   | 2.1     | Lakshmi Holla        | Added ssl information to connection string|\n",
    "| 2021-01-22        | 2.0     | Sandip Saha Joy              | Created revised version of the lab |\n",
    "| 2017              | 1.0     | Rav Ahuja & Agatha Colangelo | Created initial version of the lab |\n",
    "\n",
    "<hr>\n",
    "\n",
    "<h2 align=center><font size = 5>Copyright &copy; IBM Corporation 2017-2021. All rights reserved.</h2>\n"
   ]
  }
 ],
 "metadata": {
  "kernelspec": {
   "display_name": "R",
   "language": "python",
   "name": "python3"
  },
  "language_info": {
   "codemirror_mode": {
    "name": "ipython",
    "version": 3
   },
   "file_extension": ".py",
   "mimetype": "text/x-python",
   "name": "python",
   "nbconvert_exporter": "python",
   "pygments_lexer": "ipython3",
   "version": "3.11.7"
  }
 },
 "nbformat": 4,
 "nbformat_minor": 4
}
