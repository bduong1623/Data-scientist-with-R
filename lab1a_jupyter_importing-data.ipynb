{
 "cells": [
  {
   "cell_type": "markdown",
   "metadata": {},
   "source": [
    "<center>\n",
    "<img src=\"https://cf-courses-data.s3.us.cloud-object-storage.appdomain.cloud/IBMDeveloperSkillsNetwork-RP0101EN-Coursera/v2/M3_R_Foundamentals/images/SN_web_lightmode.png\" width=\"300\"> \n",
    "<center/>\n"
   ]
  },
  {
   "cell_type": "markdown",
   "metadata": {},
   "source": [
    "<h1>Importing Data in R</h1>\n",
    "\n",
    "\n",
    "## Objectives\n",
    "\n",
    "After completing this lab you will be able to:\n",
    "\n",
    "-   Import csv and excel file\n",
    "-   Access rows and columns from dataset\n",
    "-   Access R built-in dataset\n"
   ]
  },
  {
   "cell_type": "markdown",
   "metadata": {},
   "source": [
    "## Table of Contents\n",
    "\n",
    "<ul>\n",
    "<li><a href=\"#About-the-Dataset\">About the Dataset</a></li>\n",
    "<li><a href=\"#Reading-CSV-Files\">Reading CSV Files</a></li>\n",
    "<li><a href=\"#Reading-Excel-Files\">Reading Excel Files</a></li>\n",
    "<li><a href=\"#Accessing-Rows-and-Columns\">Accessing Rows and Columns from dataset</a></li>\n",
    "<li><a href=\"#Accessing-Built-in-Datasets-in-R\">Accessing Built-in Datasets in R</a></li>\n",
    "</ul>\n",
    "\n",
    "<hr>\n"
   ]
  },
  {
   "cell_type": "markdown",
   "metadata": {},
   "source": [
    "<a id=\"ref0\"></a>\n",
    "\n",
    "<h2 align=center>About the Dataset</h2>\n"
   ]
  },
  {
   "cell_type": "markdown",
   "metadata": {},
   "source": [
    "**Movies dataset**\n",
    "\n",
    "Here we have a dataset that includes one row for each movie, with several columns for each movie characteristic:\n",
    "\n",
    "-   **name** - Name of the movie\n",
    "-   **year** - Year the movie was released\n",
    "-   **length_min** - Length of the movie (minutes)\n",
    "-   **genre** - Genre of the movie\n",
    "-   **average_rating** - Average rating on [IMDB](http://www.imdb.com?cm_mmc=Email_Newsletter-_-Developer_Ed%2BTech-_-WW_WW-_-SkillsNetwork-Courses-IBMDeveloperSkillsNetwork-RP0101EN-SkillsNetwork-20900564&cm_mmca1=000026UJ&cm_mmca2=10006555&cm_mmca3=M12345678&cvosrc=email.Newsletter.M12345678&cvo_campaign=000026UJ&cm_mmc=Email_Newsletter-_-Developer_Ed%2BTech-_-WW_WW-_-SkillsNetwork-Courses-IBMDeveloperSkillsNetwork-RP0101EN-SkillsNetwork-20900564&cm_mmca1=000026UJ&cm_mmca2=10006555&cm_mmca3=M12345678&cvosrc=email.Newsletter.M12345678&cvo_campaign=000026UJ&cm_mmc=Email_Newsletter-_-Developer_Ed%2BTech-_-WW_WW-_-SkillsNetwork-Courses-IBMDeveloperSkillsNetwork-RP0101EN-SkillsNetwork-20900564&cm_mmca1=000026UJ&cm_mmca2=10006555&cm_mmca3=M12345678&cvosrc=email.Newsletter.M12345678&cvo_campaign=000026UJ)\n",
    "-   **cost_millions** - Movie's production cost (millions in USD)\n",
    "-   **foreign** - Is the movie foreign (1) or domestic (0)?\n",
    "-   **age_restriction** - Age restriction for the movie\n",
    "    <br>\n"
   ]
  },
  {
   "cell_type": "markdown",
   "metadata": {},
   "source": [
    "<img src=\"https://ibm.box.com/shared/static/6kr8sg0n6pc40zd1xn6hjhtvy3k7cmeq.png\" width=\"90%\" align=\"left\">\n"
   ]
  },
  {
   "cell_type": "markdown",
   "metadata": {},
   "source": [
    "Let's learn how to **import and read data** from two common types of files used to store tabular data (when data is stored in a table or a spreadsheet.)\n",
    "\n",
    "-   **CSV files** (.csv)\n",
    "-   **Excel files** (.xls or .xlsx)\n",
    "\n",
    "To begin, we'll need to **download the data**!\n"
   ]
  },
  {
   "cell_type": "markdown",
   "metadata": {},
   "source": [
    "<a id=\"ref0\"></a>\n",
    "\n",
    "<h2 align=center>Download the Data</h2>\n"
   ]
  },
  {
   "cell_type": "markdown",
   "metadata": {},
   "source": [
    "We've made it easy for you to get the data, which we've hosted online. Simply run the code cell below (Shift + Enter) to download the data to your current folder.\n"
   ]
  },
  {
   "cell_type": "code",
   "execution_count": 2,
   "metadata": {},
   "outputs": [
    {
     "ename": "NameError",
     "evalue": "name 'download' is not defined",
     "output_type": "error",
     "traceback": [
      "\u001b[1;31m---------------------------------------------------------------------------\u001b[0m",
      "\u001b[1;31mNameError\u001b[0m                                 Traceback (most recent call last)",
      "Cell \u001b[1;32mIn[2], line 4\u001b[0m\n\u001b[0;32m      1\u001b[0m \u001b[38;5;66;03m# Download datasets\u001b[39;00m\n\u001b[0;32m      2\u001b[0m \n\u001b[0;32m      3\u001b[0m \u001b[38;5;66;03m# CSV file\u001b[39;00m\n\u001b[1;32m----> 4\u001b[0m download\u001b[38;5;241m.\u001b[39mfile(\u001b[38;5;124m\"\u001b[39m\u001b[38;5;124mhttps://cf-courses-data.s3.us.cloud-object-storage.appdomain.cloud/IBMDeveloperSkillsNetwork-RP0101EN-Coursera/v2/dataset/movies-db.csv\u001b[39m\u001b[38;5;124m\"\u001b[39m, \n\u001b[0;32m      5\u001b[0m               destfile\u001b[38;5;241m=\u001b[39m\u001b[38;5;124m\"\u001b[39m\u001b[38;5;124mmovies-db.csv\u001b[39m\u001b[38;5;124m\"\u001b[39m)\n\u001b[0;32m      7\u001b[0m \u001b[38;5;66;03m# XLS file\u001b[39;00m\n\u001b[0;32m      8\u001b[0m download\u001b[38;5;241m.\u001b[39mfile(\u001b[38;5;124m\"\u001b[39m\u001b[38;5;124mhttps://cf-courses-data.s3.us.cloud-object-storage.appdomain.cloud/IBMDeveloperSkillsNetwork-RP0101EN-Coursera/v2/dataset/movies-db.xls\u001b[39m\u001b[38;5;124m\"\u001b[39m, \n\u001b[0;32m      9\u001b[0m               destfile\u001b[38;5;241m=\u001b[39m\u001b[38;5;124m\"\u001b[39m\u001b[38;5;124mmovies-db.xls\u001b[39m\u001b[38;5;124m\"\u001b[39m)\n",
      "\u001b[1;31mNameError\u001b[0m: name 'download' is not defined"
     ]
    }
   ],
   "source": [
    "# Download datasets\n",
    "\n",
    "# CSV file\n",
    "download.file(\"https://cf-courses-data.s3.us.cloud-object-storage.appdomain.cloud/IBMDeveloperSkillsNetwork-RP0101EN-Coursera/v2/dataset/movies-db.csv\", \n",
    "              destfile=\"movies-db.csv\")\n",
    "\n",
    "# XLS file\n",
    "download.file(\"https://cf-courses-data.s3.us.cloud-object-storage.appdomain.cloud/IBMDeveloperSkillsNetwork-RP0101EN-Coursera/v2/dataset/movies-db.xls\", \n",
    "              destfile=\"movies-db.xls\")\n"
   ]
  },
  {
   "cell_type": "markdown",
   "metadata": {},
   "source": [
    "**If you ran the cell above, you have now downloaded the following files to your current folder:**\n",
    "\n",
    "> movies-db.csv  \n",
    "> movies-db.xls\n"
   ]
  },
  {
   "cell_type": "markdown",
   "metadata": {},
   "source": [
    "<a id=\"ref1\"></a>\n",
    "\n",
    "<center><h2>Reading CSV Files</h2></center>\n"
   ]
  },
  {
   "cell_type": "markdown",
   "metadata": {},
   "source": [
    "#### What are CSV files?\n"
   ]
  },
  {
   "cell_type": "markdown",
   "metadata": {},
   "source": [
    "Let's read data from a CSV file. CSV (Comma Separated Values) is one of the most common formats of structured data you will find. These files contain data in a table format, where in each row, columns are separated by a delimiter -- traditionally, a comma (hence comma-separated values).   \n",
    "\n",
    "Usually, the first line in a CSV file contains the column names for the table itself. CSV files are popular because you do not need a particular program to open it.\n"
   ]
  },
  {
   "cell_type": "markdown",
   "metadata": {},
   "source": [
    "#### Reading CSV files in R\n"
   ]
  },
  {
   "cell_type": "markdown",
   "metadata": {},
   "source": [
    "In the **`movies-db.csv`** file, the first line of text is the header (names of each of the columns), followed by rows of movie information.\n",
    "\n",
    "To read CSV files into R, we use the core function **`read.csv`**.  \n",
    "\n",
    "`read.csv` easy to use. All you need is the filepath to the CSV file. Let's try loading the file using the filepath to the `movies-db.csv` file we downloaded earlier:\n"
   ]
  },
  {
   "cell_type": "code",
   "execution_count": 3,
   "metadata": {},
   "outputs": [],
   "source": [
    "# Load the CSV table into the my_data variable.\n",
    "my_data <- read.csv(\"movies-db.csv\")\n",
    "#my_data"
   ]
  },
  {
   "cell_type": "markdown",
   "metadata": {},
   "source": [
    "The data was loaded into the `my_data` variable. But instead of viewing all the data at once, we can use the `head` function to take a look at only the top six rows of our table, like so:\n",
    "\n",
    "### 1- Print out the first six rows of my_data\n"
   ]
  },
  {
   "cell_type": "code",
   "execution_count": 5,
   "metadata": {},
   "outputs": [
    {
     "data": {
      "text/html": [
       "<table>\n",
       "<thead><tr><th scope=col>name</th><th scope=col>year</th><th scope=col>length_min</th><th scope=col>genre</th><th scope=col>average_rating</th><th scope=col>cost_millions</th><th scope=col>foreign</th><th scope=col>age_restriction</th></tr></thead>\n",
       "<tbody>\n",
       "\t<tr><td>Toy Story         </td><td>1995              </td><td> 81               </td><td>Animation         </td><td>8.3               </td><td>30.0              </td><td>0                 </td><td> 0                </td></tr>\n",
       "\t<tr><td>Akira             </td><td>1998              </td><td>125               </td><td>Animation         </td><td>8.1               </td><td>10.4              </td><td>1                 </td><td>14                </td></tr>\n",
       "\t<tr><td>The Breakfast Club</td><td>1985              </td><td> 97               </td><td>Drama             </td><td>7.9               </td><td> 1.0              </td><td>0                 </td><td>14                </td></tr>\n",
       "\t<tr><td>The Artist        </td><td>2011              </td><td>100               </td><td>Romance           </td><td>8.0               </td><td>15.0              </td><td>1                 </td><td>12                </td></tr>\n",
       "\t<tr><td>Modern Times      </td><td>1936              </td><td> 87               </td><td>Comedy            </td><td>8.6               </td><td> 1.5              </td><td>0                 </td><td>10                </td></tr>\n",
       "\t<tr><td>Fight Club        </td><td>1999              </td><td>139               </td><td>Drama             </td><td>8.9               </td><td>63.0              </td><td>0                 </td><td>18                </td></tr>\n",
       "</tbody>\n",
       "</table>\n"
      ],
      "text/latex": [
       "\\begin{tabular}{r|llllllll}\n",
       " name & year & length\\_min & genre & average\\_rating & cost\\_millions & foreign & age\\_restriction\\\\\n",
       "\\hline\n",
       "\t Toy Story          & 1995               &  81                & Animation          & 8.3                & 30.0               & 0                  &  0                \\\\\n",
       "\t Akira              & 1998               & 125                & Animation          & 8.1                & 10.4               & 1                  & 14                \\\\\n",
       "\t The Breakfast Club & 1985               &  97                & Drama              & 7.9                &  1.0               & 0                  & 14                \\\\\n",
       "\t The Artist         & 2011               & 100                & Romance            & 8.0                & 15.0               & 1                  & 12                \\\\\n",
       "\t Modern Times       & 1936               &  87                & Comedy             & 8.6                &  1.5               & 0                  & 10                \\\\\n",
       "\t Fight Club         & 1999               & 139                & Drama              & 8.9                & 63.0               & 0                  & 18                \\\\\n",
       "\\end{tabular}\n"
      ],
      "text/markdown": [
       "\n",
       "| name | year | length_min | genre | average_rating | cost_millions | foreign | age_restriction |\n",
       "|---|---|---|---|---|---|---|---|\n",
       "| Toy Story          | 1995               |  81                | Animation          | 8.3                | 30.0               | 0                  |  0                 |\n",
       "| Akira              | 1998               | 125                | Animation          | 8.1                | 10.4               | 1                  | 14                 |\n",
       "| The Breakfast Club | 1985               |  97                | Drama              | 7.9                |  1.0               | 0                  | 14                 |\n",
       "| The Artist         | 2011               | 100                | Romance            | 8.0                | 15.0               | 1                  | 12                 |\n",
       "| Modern Times       | 1936               |  87                | Comedy             | 8.6                |  1.5               | 0                  | 10                 |\n",
       "| Fight Club         | 1999               | 139                | Drama              | 8.9                | 63.0               | 0                  | 18                 |\n",
       "\n"
      ],
      "text/plain": [
       "  name               year length_min genre     average_rating cost_millions\n",
       "1 Toy Story          1995  81        Animation 8.3            30.0         \n",
       "2 Akira              1998 125        Animation 8.1            10.4         \n",
       "3 The Breakfast Club 1985  97        Drama     7.9             1.0         \n",
       "4 The Artist         2011 100        Romance   8.0            15.0         \n",
       "5 Modern Times       1936  87        Comedy    8.6             1.5         \n",
       "6 Fight Club         1999 139        Drama     8.9            63.0         \n",
       "  foreign age_restriction\n",
       "1 0        0             \n",
       "2 1       14             \n",
       "3 0       14             \n",
       "4 1       12             \n",
       "5 0       10             \n",
       "6 0       18             "
      ]
     },
     "metadata": {},
     "output_type": "display_data"
    }
   ],
   "source": [
    "# Write your code below. Don't forget to press Shift+Enter to execute the cell\n",
    "\n",
    "head(my_data)"
   ]
  },
  {
   "cell_type": "markdown",
   "metadata": {},
   "source": [
    "Additionally, you may want to take a look at the **structure** of your newly created table. R provides us with a function that summarizes an entire table's properties, called `str`. Let's try it out.\n",
    "\n",
    "### 2- Prints out the structure of your table.\n"
   ]
  },
  {
   "cell_type": "code",
   "execution_count": 6,
   "metadata": {},
   "outputs": [],
   "source": [
    "# Write your code below. Don't forget to press Shift+Enter to execute the cell\n",
    "#str(my_data)"
   ]
  },
  {
   "cell_type": "markdown",
   "metadata": {},
   "source": [
    "When we loaded the file with the `read.csv` function, we had to only pass it one parameter -- the **path** to our desired file.\n"
   ]
  },
  {
   "cell_type": "markdown",
   "metadata": {},
   "source": [
    "\n",
    "\n",
    "### 3 - Get the summary of my_data data frame\n"
   ]
  },
  {
   "cell_type": "code",
   "execution_count": 6,
   "metadata": {},
   "outputs": [
    {
     "data": {
      "text/plain": [
       "                         name         year        length_min           genre  \n",
       " Akira                     : 1   Min.   :1936   Min.   : 81.00   Drama    :7  \n",
       " American Beauty           : 1   1st Qu.:1988   1st Qu.: 99.25   Comedy   :5  \n",
       " Back to the Future        : 1   Median :1998   Median :110.50   Crime    :4  \n",
       " Black Swan                : 1   Mean   :1996   Mean   :116.80   Animation:2  \n",
       " Blue is the Warmest Colour: 1   3rd Qu.:2008   3rd Qu.:124.25   Biography:2  \n",
       " Casino                    : 1   Max.   :2015   Max.   :179.00   Horror   :2  \n",
       " (Other)                   :24                                   (Other)  :8  \n",
       " average_rating  cost_millions        foreign    age_restriction\n",
       " Min.   :5.200   Min.   :  0.400   Min.   :0.0   Min.   : 0.00  \n",
       " 1st Qu.:7.925   1st Qu.:  3.525   1st Qu.:0.0   1st Qu.:12.00  \n",
       " Median :8.300   Median : 13.000   Median :0.0   Median :14.00  \n",
       " Mean   :8.103   Mean   : 22.300   Mean   :0.4   Mean   :12.93  \n",
       " 3rd Qu.:8.500   3rd Qu.: 25.000   3rd Qu.:1.0   3rd Qu.:16.00  \n",
       " Max.   :9.300   Max.   :165.000   Max.   :1.0   Max.   :18.00  \n",
       "                                                                "
      ]
     },
     "metadata": {},
     "output_type": "display_data"
    }
   ],
   "source": [
    "# Write your code below. Don't forget to press Shift+Enter to execute the cell\n",
    "\n",
    "summary(my_data)"
   ]
  },
  {
   "cell_type": "markdown",
   "metadata": {},
   "source": [
    "<details><summary>Click here for the solution</summary>\n",
    "\n",
    "```R\n",
    "summary(my_data)\n",
    "\n",
    "```\n",
    "\n",
    "</details>\n",
    "\n",
    "<hr>\n"
   ]
  },
  {
   "cell_type": "markdown",
   "metadata": {},
   "source": [
    "<a id=\"ref2\"></a>\n",
    "\n",
    "<center><h2>Reading Excel Files</h2></center>\n"
   ]
  },
  {
   "cell_type": "markdown",
   "metadata": {},
   "source": [
    "Reading XLS (Excel Spreadsheet) files is similar to reading CSV files, but there's one catch -- R does not have a native function to read them. However, thankfully, R has an extremely large repository of user-created functions, called _CRAN_. From there, we can download a library package to make us able to read XLS files.\n",
    "\n",
    "To download a package, we use the `install.packages` function (may take minutes because it is a big library). Once installed, you do not need to install that same library ever again, unless, of course, you uninstall it.\n"
   ]
  },
  {
   "cell_type": "markdown",
   "metadata": {},
   "source": [
    "Whenever you are going to use a library that is not native to R, you have to load it into the R environment after you install it. In other words, you need to install once only, but to use it, you must load it into R for every new session. To do so, use the `library` function, which loads up everything we can use in that library into R.\n"
   ]
  },
  {
   "cell_type": "code",
   "execution_count": 2,
   "metadata": {},
   "outputs": [],
   "source": [
    "# Load the \"readxl\" library into the R environment.\n",
    "library(readxl)"
   ]
  },
  {
   "cell_type": "markdown",
   "metadata": {},
   "source": [
    "Now that we have our library and its functions ready, we can move on to actually reading the file. In `readxl`, there is a function called `read_excel`, which does all the work for us. You can use it like this:\n",
    "\n",
    "### 4- Read data from the XLS file and attribute the table to the my_excel_data variable.\n"
   ]
  },
  {
   "cell_type": "code",
   "execution_count": 3,
   "metadata": {},
   "outputs": [],
   "source": [
    "# Write your code below. Don't forget to press Shift+Enter to execute the cell\n",
    " my_excel_data <- read_excel(\"F:/movies-db.xls\")"
   ]
  },
  {
   "cell_type": "markdown",
   "metadata": {},
   "source": [
    "Since `my_excel_data` is now a dataframe in R, much like the one we created out of the CSV file, all of the native R functions can be applied to it, like `head` ad `str`.\n",
    "\n",
    "### 5- Prints out the structure of your table.\n",
    " Tells you how many rows and columns there are, and the names and type of each column.\n",
    " This should be the very same as the other table we created, as they are the same dataset."
   ]
  },
  {
   "cell_type": "code",
   "execution_count": 4,
   "metadata": {},
   "outputs": [
    {
     "name": "stdout",
     "output_type": "stream",
     "text": [
      "Classes 'tbl_df', 'tbl' and 'data.frame':\t30 obs. of  8 variables:\n",
      " $ name           : chr  \"Toy Story\" \"Akira\" \"The Breakfast Club\" \"The Artist\" ...\n",
      " $ year           : num  1995 1998 1985 2011 1936 ...\n",
      " $ length_min     : num  81 125 97 100 87 139 130 119 121 122 ...\n",
      " $ genre          : chr  \"Animation\" \"Animation\" \"Drama\" \"Romance\" ...\n",
      " $ average_rating : num  8.3 8.1 7.9 8 8.6 8.9 8.7 7.9 8.7 8.4 ...\n",
      " $ cost_millions  : num  30 10.4 1 15 1.5 63 3.3 25 11 15 ...\n",
      " $ foreign        : num  0 1 0 1 0 0 1 0 0 0 ...\n",
      " $ age_restriction: num  0 14 14 12 10 18 18 14 10 14 ...\n"
     ]
    }
   ],
   "source": [
    "# Write your code below. Don't forget to press Shift+Enter to execute the cell\n",
    "\n",
    "str(my_excel_data)"
   ]
  },
  {
   "cell_type": "markdown",
   "metadata": {},
   "source": [
    "Much like the `read.csv` function, `read_excel` takes as its main parameter the **path** to the desired file.\n"
   ]
  },
  {
   "cell_type": "markdown",
   "metadata": {},
   "source": [
    "<div class=\"alert alert-success alertsuccess\">\n",
    "<b>[Tip]</b>   \n",
    "A library is basically a collection of different classes and functions which are used to perform some specific operations. You can install and use libraries to add more functions that are not included on the core R files.\n",
    "For example, the readxl library adds functions to read data from excel files.\n",
    "<br><br>\n",
    "It's important to know that there are many other libraries too which can be used for a variety of things. There are also plenty of other libraries to read Excel files -- readxl is just one of them.\n",
    "</div>\n"
   ]
  },
  {
   "cell_type": "markdown",
   "metadata": {},
   "source": [
    "* * *\n"
   ]
  },
  {
   "cell_type": "markdown",
   "metadata": {},
   "source": [
    "<center><h2>Accessing Rows and Columns</h2></center>\n"
   ]
  },
  {
   "cell_type": "markdown",
   "metadata": {},
   "source": [
    "Whenever we use functions to read tabular data in R, the default method of structuring this data in the R environment is using Data Frames -- R's primary data structure. Data Frames are extremely versatile, and R presents us many options to manipulate them.\n",
    "\n",
    "Suppose we want to access the \"name\" column of our dataset. We can directly reference the column name on our data frame to retrieve this data.\n",
    "\n",
    "### 6- Retrieve a subset of the data frame consisting of the \"name\" columns\n"
   ]
  },
  {
   "cell_type": "code",
   "execution_count": 11,
   "metadata": {},
   "outputs": [],
   "source": [
    "# Write your code below. Don't forget to press Shift+Enter to execute the cell\n",
    "# my_data['name']"
   ]
  },
  {
   "cell_type": "markdown",
   "metadata": {},
   "source": [
    " Another way to do this is by using the `$` notation which at the output will provide a vector:\n",
    "### 7-Retrieve the data for the \"name\" column in the data frame.\n"
   ]
  },
  {
   "cell_type": "code",
   "execution_count": 12,
   "metadata": {},
   "outputs": [],
   "source": [
    "# Write your code below. Don't forget to press Shift+Enter to execute the cell\n",
    "# my_data$name"
   ]
  },
  {
   "cell_type": "markdown",
   "metadata": {},
   "source": [
    "### 8-Retrieve the data for the \"name\" column in the data frame using **double square brackets**\n",
    "\n"
   ]
  },
  {
   "cell_type": "code",
   "execution_count": 13,
   "metadata": {},
   "outputs": [],
   "source": [
    "# Write your code below. Don't forget to press Shift+Enter to execute the cell\n",
    "# my_data[[\"name\"]]"
   ]
  },
  {
   "cell_type": "markdown",
   "metadata": {},
   "source": [
    "Similarly, any particular row of the dataset can also be accessed. For example, to get the first row of the dataset with all column values, we can use:\n"
   ]
  },
  {
   "cell_type": "code",
   "execution_count": null,
   "metadata": {},
   "outputs": [],
   "source": [
    "# Retrieve the first row of the data frame.\n",
    "my_data[1,]"
   ]
  },
  {
   "cell_type": "markdown",
   "metadata": {},
   "source": [
    "The first value before the comma represents the **row** of the dataset and the second value (which is blank in the above example) represents the **column** of the dataset to be retrieved. By setting the first number as 1 we say we want data from row 1. By leaving the column blank we say we want all the columns in that row.\n",
    "\n",
    "We can specify more than one column or row by using **`c`**, the **concatenate** function. By using `c` to concatenate a list of elements, we tell R that we want these observations out of the data frame. Let's try it out.\n"
   ]
  },
  {
   "cell_type": "code",
   "execution_count": null,
   "metadata": {},
   "outputs": [],
   "source": [
    "# Retrieve the first row of the data frame, but only the \"name\" and \"length_min\" columns.\n",
    "my_data[1, c(\"name\",\"length_min\")]"
   ]
  },
  {
   "cell_type": "markdown",
   "metadata": {},
   "source": [
    "* * *\n"
   ]
  },
  {
   "cell_type": "markdown",
   "metadata": {},
   "source": [
    "<a id=\"ref4\"></a>\n",
    "\n",
    "<center><h2>Accessing Built-in Datasets in R</h2></center>\n"
   ]
  },
  {
   "cell_type": "markdown",
   "metadata": {},
   "source": [
    "R provides various built-in datasets for users to utilize for different purposes. To know which datasets are available, R provides a simple function -- `data` -- that returns all of the present datasets' names with a small description beside them. The ones in the `datasets` package are all inbuilt.\n"
   ]
  },
  {
   "cell_type": "code",
   "execution_count": 28,
   "metadata": {},
   "outputs": [],
   "source": [
    "# Displays a list of the inbuilt datasets. Opens in a new \"window\".\n",
    "data()"
   ]
  },
  {
   "cell_type": "markdown",
   "metadata": {},
   "source": [
    "As you can see, there are many different datasets already inbuilt in the R environment. Having to go through each of them to take a look at their structure and try to find out what they represent might be very tiring. Thankfully, R has documentation present for each inbuilt dataset. You can take a look at that by using the `help` function.\n",
    "\n",
    "For example, if we want to know more about the `women` dataset, we can use the following function:\n"
   ]
  },
  {
   "cell_type": "code",
   "execution_count": 16,
   "metadata": {},
   "outputs": [],
   "source": [
    "# Opens up the documentation for the inbuilt \"women\" dataset.\n",
    "help(women)"
   ]
  },
  {
   "cell_type": "markdown",
   "metadata": {},
   "source": [
    "Since the datasets listed are inbuilt, you do not need to import or load them to use them. If you reference them by their name, R already has the data frame ready.\n"
   ]
  },
  {
   "cell_type": "code",
   "execution_count": 27,
   "metadata": {},
   "outputs": [
    {
     "data": {
      "text/html": [
       "<table>\n",
       "<thead><tr><th scope=col>height</th><th scope=col>weight</th></tr></thead>\n",
       "<tbody>\n",
       "\t<tr><td>58 </td><td>115</td></tr>\n",
       "\t<tr><td>59 </td><td>117</td></tr>\n",
       "\t<tr><td>60 </td><td>120</td></tr>\n",
       "\t<tr><td>61 </td><td>123</td></tr>\n",
       "\t<tr><td>62 </td><td>126</td></tr>\n",
       "\t<tr><td>63 </td><td>129</td></tr>\n",
       "\t<tr><td>64 </td><td>132</td></tr>\n",
       "\t<tr><td>65 </td><td>135</td></tr>\n",
       "\t<tr><td>66 </td><td>139</td></tr>\n",
       "\t<tr><td>67 </td><td>142</td></tr>\n",
       "\t<tr><td>68 </td><td>146</td></tr>\n",
       "\t<tr><td>69 </td><td>150</td></tr>\n",
       "\t<tr><td>70 </td><td>154</td></tr>\n",
       "\t<tr><td>71 </td><td>159</td></tr>\n",
       "\t<tr><td>72 </td><td>164</td></tr>\n",
       "</tbody>\n",
       "</table>\n"
      ],
      "text/latex": [
       "\\begin{tabular}{r|ll}\n",
       " height & weight\\\\\n",
       "\\hline\n",
       "\t 58  & 115\\\\\n",
       "\t 59  & 117\\\\\n",
       "\t 60  & 120\\\\\n",
       "\t 61  & 123\\\\\n",
       "\t 62  & 126\\\\\n",
       "\t 63  & 129\\\\\n",
       "\t 64  & 132\\\\\n",
       "\t 65  & 135\\\\\n",
       "\t 66  & 139\\\\\n",
       "\t 67  & 142\\\\\n",
       "\t 68  & 146\\\\\n",
       "\t 69  & 150\\\\\n",
       "\t 70  & 154\\\\\n",
       "\t 71  & 159\\\\\n",
       "\t 72  & 164\\\\\n",
       "\\end{tabular}\n"
      ],
      "text/markdown": [
       "\n",
       "| height | weight |\n",
       "|---|---|\n",
       "| 58  | 115 |\n",
       "| 59  | 117 |\n",
       "| 60  | 120 |\n",
       "| 61  | 123 |\n",
       "| 62  | 126 |\n",
       "| 63  | 129 |\n",
       "| 64  | 132 |\n",
       "| 65  | 135 |\n",
       "| 66  | 139 |\n",
       "| 67  | 142 |\n",
       "| 68  | 146 |\n",
       "| 69  | 150 |\n",
       "| 70  | 154 |\n",
       "| 71  | 159 |\n",
       "| 72  | 164 |\n",
       "\n"
      ],
      "text/plain": [
       "   height weight\n",
       "1  58     115   \n",
       "2  59     117   \n",
       "3  60     120   \n",
       "4  61     123   \n",
       "5  62     126   \n",
       "6  63     129   \n",
       "7  64     132   \n",
       "8  65     135   \n",
       "9  66     139   \n",
       "10 67     142   \n",
       "11 68     146   \n",
       "12 69     150   \n",
       "13 70     154   \n",
       "14 71     159   \n",
       "15 72     164   "
      ]
     },
     "metadata": {},
     "output_type": "display_data"
    }
   ],
   "source": [
    "women"
   ]
  },
  {
   "cell_type": "markdown",
   "metadata": {},
   "source": [
    "<hr>\n",
    "\n",
    "**Coding Exercise:** in the code cell below, get the CO2 dataset\n"
   ]
  },
  {
   "cell_type": "code",
   "execution_count": 32,
   "metadata": {},
   "outputs": [],
   "source": [
    "# Write your code below. Don't forget to press Shift+Enter to execute the cell\n",
    "# data(CO2)\n",
    "\n",
    "# CO2"
   ]
  },
  {
   "cell_type": "markdown",
   "metadata": {},
   "source": [
    "<details><summary>Click here for the solution</summary>\n",
    "\n",
    "```R\n",
    "co2\n",
    "\n",
    "```\n",
    "\n",
    "</details>\n",
    "\n",
    "<hr>\n"
   ]
  },
  {
   "cell_type": "markdown",
   "metadata": {},
   "source": [
    "\n",
    "### Scaling R with big data\n",
    "\n",
    "As you learn more about R, if you are interested in exploring platforms that can help you run analyses at scale, you might want to sign up for a free account on [IBM Watson Studio](http://cocl.us/dsx_rp0101en), which allows you to run analyses in R with two Spark executors for free.\n",
    "\n",
    "<hr>\n"
   ]
  },
  {
   "cell_type": "markdown",
   "metadata": {},
   "source": [
    "# Vectors and Factors\n",
    "Welcome!\n",
    "By the end of this notebook, you will have learned about vectors and factors, two very important data structures in R.\n",
    "\n",
    "Objectives\n",
    "After completing this lab you will be able to:\n",
    "\n",
    "Understand R vector via coding practices\n",
    "\n",
    "Perform vector operations\n",
    "\n",
    "Understand R factor via coding practices\n",
    "\n",
    "Perform factor operations\n"
   ]
  },
  {
   "cell_type": "markdown",
   "metadata": {},
   "source": [
    "### Vectors"
   ]
  },
  {
   "cell_type": "markdown",
   "metadata": {},
   "source": [
    "Vectors are collections of numbers, characters or logical data organized in a one dimensional array. In other words, a vector is a simple tool to store your grouped data, element by element.\n",
    "\n",
    "In R, you create a vector with the combine function c(). You place the vector elements separated by a comma between the brackets.\n",
    "\n",
    "Vectors will be very useful in the future as they allow you to apply operations on a series of data easily.\n",
    "\n",
    "Note that the elements in a vector must be of the same class, for example all should be either number, character, or logical."
   ]
  },
  {
   "cell_type": "markdown",
   "metadata": {},
   "source": [
    "### Numeric, Character, and Logical Vectors¶"
   ]
  },
  {
   "cell_type": "markdown",
   "metadata": {},
   "source": [
    "Let's say we have four movie release dates (1985, 1999, 2015, 1964) and we want to assign them to a single variable, release_year. This means we'll need to create a vector using the c() function to combine them.\n",
    "\n",
    "Using numbers, this becomes a numeric vector."
   ]
  },
  {
   "cell_type": "code",
   "execution_count": null,
   "metadata": {},
   "outputs": [],
   "source": []
  },
  {
   "cell_type": "markdown",
   "metadata": {},
   "source": [
    "### Authors\n",
    "\n",
    "Hi! It's [Iqbal Singh](https://ca.linkedin.com/in/iqbalsingh15?utm_medium=Exinfluencer&utm_source=Exinfluencer&utm_content=000026UJ&utm_term=10006555&utm_id=NA-SkillsNetwork-Channel-SkillsNetworkCoursesIBMDeveloperSkillsNetworkRP0101ENCoursera889-2022-01-01&cm_mmc=Email_Newsletter-_-Developer_Ed%2BTech-_-WW_WW-_-SkillsNetwork-Courses-IBMDeveloperSkillsNetwork-RP0101EN-SkillsNetwork-20900564&cm_mmca1=000026UJ&cm_mmca2=10006555&cm_mmca3=M12345678&cvosrc=email.Newsletter.M12345678&cvo_campaign=000026UJ) and [Walter Gomes](https://br.linkedin.com/in/walter-gomes-de-amorim-junior-624726121?utm_medium=Exinfluencer&utm_source=Exinfluencer&utm_content=000026UJ&utm_term=10006555&utm_id=NA-SkillsNetwork-Channel-SkillsNetworkCoursesIBMDeveloperSkillsNetworkRP0101ENCoursera889-2022-01-01&cm_mmc=Email_Newsletter-_-Developer_Ed%2BTech-_-WW_WW-_-SkillsNetwork-Courses-IBMDeveloperSkillsNetwork-RP0101EN-SkillsNetwork-20900564&cm_mmca1=000026UJ&cm_mmca2=10006555&cm_mmca3=M12345678&cvosrc=email.Newsletter.M12345678&cvo_campaign=000026UJ), the authors of this notebook. \n",
    "I hope you found it easy to learn how to import data into R! Feel free to connect with us if you have any questions.\n"
   ]
  },
  {
   "cell_type": "markdown",
   "metadata": {},
   "source": [
    "### Other Contributors\n",
    "\n",
    "<a href=\"https://www.linkedin.com/in/yan-luo-96288783/?utm_medium=Exinfluencer&utm_source=Exinfluencer&utm_content=000026UJ&utm_term=10006555&utm_id=NA-SkillsNetwork-Channel-SkillsNetworkCoursesIBMDeveloperSkillsNetworkRP0101ENCoursera889-2022-01-01\">Yan Luo</a>\n"
   ]
  }
 ],
 "metadata": {
  "kernelspec": {
   "display_name": "R",
   "language": "python",
   "name": "python3"
  },
  "language_info": {
   "codemirror_mode": {
    "name": "ipython",
    "version": 3
   },
   "file_extension": ".py",
   "mimetype": "text/x-python",
   "name": "python",
   "nbconvert_exporter": "python",
   "pygments_lexer": "ipython3",
   "version": "3.11.7"
  }
 },
 "nbformat": 4,
 "nbformat_minor": 4
}
