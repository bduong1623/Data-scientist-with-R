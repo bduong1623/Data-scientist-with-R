{
 "cells": [
  {
   "cell_type": "markdown",
   "metadata": {},
   "source": [
    "<center>\n",
    "<img src=\"https://cf-courses-data.s3.us.cloud-object-storage.appdomain.cloud/IBMDeveloperSkillsNetwork-RP0101EN-Coursera/v2/M1_R_Basics/images/SN_web_lightmode.png\" width=\"300\"> \n",
    "<center/>\n"
   ]
  },
  {
   "cell_type": "markdown",
   "metadata": {},
   "source": [
    "<h1>Vectors and Factors</h1>\n",
    "\n",
    "### Welcome!\n",
    "\n",
    "By the end of this notebook, you will have learned about **vectors and factors**, two very important data structures in R.\n",
    "\n",
    "\n",
    "\n",
    "## Objectives\n",
    "\n",
    "After completing this lab you will be able to:\n",
    "-  Understand R vector via coding practices\n",
    "-  Perform vector operations\n",
    "-  Understand R factor via coding practices\n",
    "-  Perform factor operations\n"
   ]
  },
  {
   "cell_type": "markdown",
   "metadata": {},
   "source": [
    "## Table of Contents\n",
    "\n",
    "<ul>\n",
    "    <li><a href=\"#About-the-Dataset\">About the Dataset</a></li>\n",
    "    <li><a href=\"#Vectors\">Vectors</a></li>\n",
    "    <li><a href=\"#Vector-Operations\">Vector Operations</a></li>\n",
    "    <li><a href=\"#Subsetting-Vectors\">Subsetting Vectors</a></li>\n",
    "    <li><a href=\"#Factors\">Factors</a></li>\n",
    "</ul>\n",
    "\n",
    "<hr>\n"
   ]
  },
  {
   "cell_type": "markdown",
   "metadata": {},
   "source": [
    "<a id=\"ref0\"></a>\n",
    "\n",
    "<h2 align=center>About the Dataset</h2>\n",
    "\n",
    "You have received many movie recomendations from your friends and compiled all of the recommendations into a table, with information about each movie. \n",
    "\n",
    "This table has one row for each movie and several columns.\n",
    "\n",
    "-   **name** - The name of the movie\n",
    "-   **year** - The year the movie was released\n",
    "-   **length_min** - The lenght of the movie in minutes\n",
    "-   **genre** - The genre of the movie\n",
    "-   **average_rating** - Average rating on Imdb\n",
    "-   **cost_millions** - The movie's production cost in millions\n",
    "-   **foreign** - Indicative of whether the movie is foreign (1) or domestic (0)\n",
    "-   **age_restriction** - The age restriction for the movie\n",
    "    <br>\n",
    "    <br>\n",
    "\n",
    "Here's what the data looks like:\n",
    "\n",
    "<img src=\"https://ibm.box.com/shared/static/6kr8sg0n6pc40zd1xn6hjhtvy3k7cmeq.png\" width=\"90%\" align=\"left\">\n"
   ]
  },
  {
   "cell_type": "markdown",
   "metadata": {},
   "source": [
    "<hr>\n"
   ]
  },
  {
   "cell_type": "markdown",
   "metadata": {},
   "source": [
    "<a id=\"ref1\"></a>\n",
    "\n",
    "<center><h2>Vectors</h2></center>\n"
   ]
  },
  {
   "cell_type": "markdown",
   "metadata": {},
   "source": [
    "**Vectors** are collections of numbers, characters or logical data organized in a one dimensional array. In other words, a vector is a simple tool to store your grouped data, element by element.\n",
    "\n",
    "In R, you create a vector with the combine function **c()**. You place the vector elements separated by a comma between the brackets. \n",
    "\n",
    "Vectors will be very useful in the future as they allow you to apply operations on a series of data easily. \n",
    "\n",
    "Note that the elements in a vector must be of the same class, for example all should be either number, character, or logical.\n"
   ]
  },
  {
   "cell_type": "markdown",
   "metadata": {},
   "source": [
    "### Numeric, Character, and Logical Vectors\n"
   ]
  },
  {
   "cell_type": "markdown",
   "metadata": {},
   "source": [
    "Let's say we have four movie release dates (1985, 1999, 2015, 1964) and we want to assign them to a single variable, `release_year`. This means we'll need to create a vector using the **`c()`** function to **c**ombine them.\n",
    "\n",
    "Using numbers, this becomes a **numeric vector**.\n"
   ]
  },
  {
   "cell_type": "code",
   "execution_count": 1,
   "metadata": {
    "vscode": {
     "languageId": "r"
    }
   },
   "outputs": [],
   "source": [
    "release_year <- c(1985, 1999, 2015, 1964)"
   ]
  },
  {
   "cell_type": "code",
   "execution_count": 2,
   "metadata": {
    "vscode": {
     "languageId": "r"
    }
   },
   "outputs": [
    {
     "data": {
      "text/html": [
       "<ol class=list-inline>\n",
       "\t<li>1985</li>\n",
       "\t<li>1999</li>\n",
       "\t<li>2015</li>\n",
       "\t<li>1964</li>\n",
       "</ol>\n"
      ],
      "text/latex": [
       "\\begin{enumerate*}\n",
       "\\item 1985\n",
       "\\item 1999\n",
       "\\item 2015\n",
       "\\item 1964\n",
       "\\end{enumerate*}\n"
      ],
      "text/markdown": [
       "1. 1985\n",
       "2. 1999\n",
       "3. 2015\n",
       "4. 1964\n",
       "\n",
       "\n"
      ],
      "text/plain": [
       "[1] 1985 1999 2015 1964"
      ]
     },
     "metadata": {},
     "output_type": "display_data"
    }
   ],
   "source": [
    "release_year"
   ]
  },
  {
   "cell_type": "markdown",
   "metadata": {},
   "source": [
    "What if we use single or double quotation marks? Then this becomes a **character vector**.\n"
   ]
  },
  {
   "cell_type": "code",
   "execution_count": 3,
   "metadata": {
    "vscode": {
     "languageId": "r"
    }
   },
   "outputs": [
    {
     "data": {
      "text/html": [
       "<ol class=list-inline>\n",
       "\t<li>'Toy Story'</li>\n",
       "\t<li>'Akira'</li>\n",
       "\t<li>'The Breakfast Club'</li>\n",
       "</ol>\n"
      ],
      "text/latex": [
       "\\begin{enumerate*}\n",
       "\\item 'Toy Story'\n",
       "\\item 'Akira'\n",
       "\\item 'The Breakfast Club'\n",
       "\\end{enumerate*}\n"
      ],
      "text/markdown": [
       "1. 'Toy Story'\n",
       "2. 'Akira'\n",
       "3. 'The Breakfast Club'\n",
       "\n",
       "\n"
      ],
      "text/plain": [
       "[1] \"Toy Story\"          \"Akira\"              \"The Breakfast Club\""
      ]
     },
     "metadata": {},
     "output_type": "display_data"
    }
   ],
   "source": [
    "# Create genre vector and assign values to it \n",
    "titles <- c(\"Toy Story\", \"Akira\", \"The Breakfast Club\")\n",
    "titles"
   ]
  },
  {
   "cell_type": "markdown",
   "metadata": {},
   "source": [
    "There are also **logical vectors**, which consist of TRUEs and FALSEs. They're particular important when you want to check its contents\n"
   ]
  },
  {
   "cell_type": "code",
   "execution_count": 4,
   "metadata": {
    "vscode": {
     "languageId": "r"
    }
   },
   "outputs": [
    {
     "data": {
      "text/html": [
       "<ol class=list-inline>\n",
       "\t<li>FALSE</li>\n",
       "\t<li>TRUE</li>\n",
       "\t<li>FALSE</li>\n",
       "</ol>\n"
      ],
      "text/latex": [
       "\\begin{enumerate*}\n",
       "\\item FALSE\n",
       "\\item TRUE\n",
       "\\item FALSE\n",
       "\\end{enumerate*}\n"
      ],
      "text/markdown": [
       "1. FALSE\n",
       "2. TRUE\n",
       "3. FALSE\n",
       "\n",
       "\n"
      ],
      "text/plain": [
       "[1] FALSE  TRUE FALSE"
      ]
     },
     "metadata": {},
     "output_type": "display_data"
    }
   ],
   "source": [
    "titles == \"Akira\" # which item in `titles` is equal to \"Akira\"?"
   ]
  },
  {
   "cell_type": "markdown",
   "metadata": {},
   "source": [
    "**Coding Exercise:** in the code cell below, find which item in `titles` equals to \"Toy Story\"\n"
   ]
  },
  {
   "cell_type": "code",
   "execution_count": null,
   "metadata": {
    "vscode": {
     "languageId": "r"
    }
   },
   "outputs": [],
   "source": [
    "# Write your code below. Don't forget to press Shift+Enter to execute the cell\n"
   ]
  },
  {
   "cell_type": "markdown",
   "metadata": {},
   "source": [
    "<details><summary>Click here for the solution</summary>\n",
    "\n",
    "```R\n",
    "titles == \"---------------\"\n",
    "\n",
    "```\n",
    "\n",
    "</details>\n"
   ]
  },
  {
   "cell_type": "markdown",
   "metadata": {},
   "source": [
    "<hr></hr>\n",
    "<div class=\"alert alert-success alertsuccess\" style=\"margin-top: 20px\">\n",
    "<h4> [Tip] TRUE and FALSE in R </h4>  \n",
    "\n",
    "Did you know? R only recognizes `TRUE`, `FALSE`, `T` and `F` as special values for true and false. That means all other spellings, including _True_ and _true_, are not interpreted by R as logical values.\n",
    "\n",
    "<p></p>\n",
    "</div>\n",
    "\n",
    "<hr></hr>\n"
   ]
  },
  {
   "cell_type": "markdown",
   "metadata": {},
   "source": [
    "<a id=\"ref2\"></a>\n",
    "\n",
    "<center><h2>Vector Operations</h2></center>\n"
   ]
  },
  {
   "cell_type": "markdown",
   "metadata": {},
   "source": [
    "### Adding more elements to a vector\n"
   ]
  },
  {
   "cell_type": "markdown",
   "metadata": {},
   "source": [
    "You can add more elements to a vector with the same **`c()`** function you use the create vectors:\n"
   ]
  },
  {
   "cell_type": "code",
   "execution_count": 4,
   "metadata": {
    "vscode": {
     "languageId": "r"
    }
   },
   "outputs": [
    {
     "data": {
      "text/html": [
       "<ol class=list-inline>\n",
       "\t<li>1985</li>\n",
       "\t<li>1999</li>\n",
       "\t<li>2015</li>\n",
       "\t<li>1964</li>\n",
       "</ol>\n"
      ],
      "text/latex": [
       "\\begin{enumerate*}\n",
       "\\item 1985\n",
       "\\item 1999\n",
       "\\item 2015\n",
       "\\item 1964\n",
       "\\end{enumerate*}\n"
      ],
      "text/markdown": [
       "1. 1985\n",
       "2. 1999\n",
       "3. 2015\n",
       "4. 1964\n",
       "\n",
       "\n"
      ],
      "text/plain": [
       "[1] 1985 1999 2015 1964"
      ]
     },
     "metadata": {},
     "output_type": "display_data"
    }
   ],
   "source": [
    "release_year <- c(1985, 1999, 2015, 1964)\n",
    "release_year"
   ]
  },
  {
   "cell_type": "code",
   "execution_count": 5,
   "metadata": {
    "vscode": {
     "languageId": "r"
    }
   },
   "outputs": [
    {
     "data": {
      "text/html": [
       "<ol class=list-inline>\n",
       "\t<li>1985</li>\n",
       "\t<li>1999</li>\n",
       "\t<li>2015</li>\n",
       "\t<li>1964</li>\n",
       "\t<li>2016</li>\n",
       "\t<li>2017</li>\n",
       "\t<li>2018</li>\n",
       "</ol>\n"
      ],
      "text/latex": [
       "\\begin{enumerate*}\n",
       "\\item 1985\n",
       "\\item 1999\n",
       "\\item 2015\n",
       "\\item 1964\n",
       "\\item 2016\n",
       "\\item 2017\n",
       "\\item 2018\n",
       "\\end{enumerate*}\n"
      ],
      "text/markdown": [
       "1. 1985\n",
       "2. 1999\n",
       "3. 2015\n",
       "4. 1964\n",
       "5. 2016\n",
       "6. 2017\n",
       "7. 2018\n",
       "\n",
       "\n"
      ],
      "text/plain": [
       "[1] 1985 1999 2015 1964 2016 2017 2018"
      ]
     },
     "metadata": {},
     "output_type": "display_data"
    }
   ],
   "source": [
    "release_year <- c(release_year, 2016:2018)\n",
    "release_year"
   ]
  },
  {
   "cell_type": "markdown",
   "metadata": {},
   "source": [
    "### Length of a vector\n"
   ]
  },
  {
   "cell_type": "markdown",
   "metadata": {},
   "source": [
    "How do we check how many items there are in a vector? We can use the **length()** function:\n"
   ]
  },
  {
   "cell_type": "code",
   "execution_count": 6,
   "metadata": {
    "vscode": {
     "languageId": "r"
    }
   },
   "outputs": [
    {
     "data": {
      "text/html": [
       "<ol class=list-inline>\n",
       "\t<li>1985</li>\n",
       "\t<li>1999</li>\n",
       "\t<li>2015</li>\n",
       "\t<li>1964</li>\n",
       "\t<li>2016</li>\n",
       "\t<li>2017</li>\n",
       "\t<li>2018</li>\n",
       "</ol>\n"
      ],
      "text/latex": [
       "\\begin{enumerate*}\n",
       "\\item 1985\n",
       "\\item 1999\n",
       "\\item 2015\n",
       "\\item 1964\n",
       "\\item 2016\n",
       "\\item 2017\n",
       "\\item 2018\n",
       "\\end{enumerate*}\n"
      ],
      "text/markdown": [
       "1. 1985\n",
       "2. 1999\n",
       "3. 2015\n",
       "4. 1964\n",
       "5. 2016\n",
       "6. 2017\n",
       "7. 2018\n",
       "\n",
       "\n"
      ],
      "text/plain": [
       "[1] 1985 1999 2015 1964 2016 2017 2018"
      ]
     },
     "metadata": {},
     "output_type": "display_data"
    },
    {
     "data": {
      "text/html": [
       "7"
      ],
      "text/latex": [
       "7"
      ],
      "text/markdown": [
       "7"
      ],
      "text/plain": [
       "[1] 7"
      ]
     },
     "metadata": {},
     "output_type": "display_data"
    }
   ],
   "source": [
    "release_year\n",
    "length(----------------------)"
   ]
  },
  {
   "cell_type": "markdown",
   "metadata": {},
   "source": [
    "### Head and Tail of a vector\n"
   ]
  },
  {
   "cell_type": "markdown",
   "metadata": {},
   "source": [
    "We can also retrieve just the **first few items** using the **head()** function:\n"
   ]
  },
  {
   "cell_type": "code",
   "execution_count": 7,
   "metadata": {
    "vscode": {
     "languageId": "r"
    }
   },
   "outputs": [
    {
     "data": {
      "text/html": [
       "<ol class=list-inline>\n",
       "\t<li>1985</li>\n",
       "\t<li>1999</li>\n",
       "\t<li>2015</li>\n",
       "\t<li>1964</li>\n",
       "\t<li>2016</li>\n",
       "\t<li>2017</li>\n",
       "</ol>\n"
      ],
      "text/latex": [
       "\\begin{enumerate*}\n",
       "\\item 1985\n",
       "\\item 1999\n",
       "\\item 2015\n",
       "\\item 1964\n",
       "\\item 2016\n",
       "\\item 2017\n",
       "\\end{enumerate*}\n"
      ],
      "text/markdown": [
       "1. 1985\n",
       "2. 1999\n",
       "3. 2015\n",
       "4. 1964\n",
       "5. 2016\n",
       "6. 2017\n",
       "\n",
       "\n"
      ],
      "text/plain": [
       "[1] 1985 1999 2015 1964 2016 2017"
      ]
     },
     "metadata": {},
     "output_type": "display_data"
    }
   ],
   "source": [
    "head(-------------------) #first six items"
   ]
  },
  {
   "cell_type": "code",
   "execution_count": 8,
   "metadata": {
    "vscode": {
     "languageId": "r"
    }
   },
   "outputs": [
    {
     "data": {
      "text/html": [
       "<ol class=list-inline>\n",
       "\t<li>1985</li>\n",
       "\t<li>1999</li>\n",
       "</ol>\n"
      ],
      "text/latex": [
       "\\begin{enumerate*}\n",
       "\\item 1985\n",
       "\\item 1999\n",
       "\\end{enumerate*}\n"
      ],
      "text/markdown": [
       "1. 1985\n",
       "2. 1999\n",
       "\n",
       "\n"
      ],
      "text/plain": [
       "[1] 1985 1999"
      ]
     },
     "metadata": {},
     "output_type": "display_data"
    }
   ],
   "source": [
    "head(release_year, n = ????????????) #first n items"
   ]
  },
  {
   "cell_type": "code",
   "execution_count": 9,
   "metadata": {
    "vscode": {
     "languageId": "r"
    }
   },
   "outputs": [
    {
     "data": {
      "text/html": [
       "<ol class=list-inline>\n",
       "\t<li>1985</li>\n",
       "\t<li>1999</li>\n",
       "</ol>\n"
      ],
      "text/latex": [
       "\\begin{enumerate*}\n",
       "\\item 1985\n",
       "\\item 1999\n",
       "\\end{enumerate*}\n"
      ],
      "text/markdown": [
       "1. 1985\n",
       "2. 1999\n",
       "\n",
       "\n"
      ],
      "text/plain": [
       "[1] 1985 1999"
      ]
     },
     "metadata": {},
     "output_type": "display_data"
    }
   ],
   "source": [
    "head(release_year, 2)"
   ]
  },
  {
   "cell_type": "markdown",
   "metadata": {},
   "source": [
    "We can also retrieve just the **last few items** using the **tail()** function:\n"
   ]
  },
  {
   "cell_type": "code",
   "execution_count": 10,
   "metadata": {
    "vscode": {
     "languageId": "r"
    }
   },
   "outputs": [
    {
     "data": {
      "text/html": [
       "<ol class=list-inline>\n",
       "\t<li>1999</li>\n",
       "\t<li>2015</li>\n",
       "\t<li>1964</li>\n",
       "\t<li>2016</li>\n",
       "\t<li>2017</li>\n",
       "\t<li>2018</li>\n",
       "</ol>\n"
      ],
      "text/latex": [
       "\\begin{enumerate*}\n",
       "\\item 1999\n",
       "\\item 2015\n",
       "\\item 1964\n",
       "\\item 2016\n",
       "\\item 2017\n",
       "\\item 2018\n",
       "\\end{enumerate*}\n"
      ],
      "text/markdown": [
       "1. 1999\n",
       "2. 2015\n",
       "3. 1964\n",
       "4. 2016\n",
       "5. 2017\n",
       "6. 2018\n",
       "\n",
       "\n"
      ],
      "text/plain": [
       "[1] 1999 2015 1964 2016 2017 2018"
      ]
     },
     "metadata": {},
     "output_type": "display_data"
    }
   ],
   "source": [
    "tail(release_year) #last six items"
   ]
  },
  {
   "cell_type": "code",
   "execution_count": 11,
   "metadata": {
    "vscode": {
     "languageId": "r"
    }
   },
   "outputs": [
    {
     "data": {
      "text/html": [
       "<ol class=list-inline>\n",
       "\t<li>2017</li>\n",
       "\t<li>2018</li>\n",
       "</ol>\n"
      ],
      "text/latex": [
       "\\begin{enumerate*}\n",
       "\\item 2017\n",
       "\\item 2018\n",
       "\\end{enumerate*}\n"
      ],
      "text/markdown": [
       "1. 2017\n",
       "2. 2018\n",
       "\n",
       "\n"
      ],
      "text/plain": [
       "[1] 2017 2018"
      ]
     },
     "metadata": {},
     "output_type": "display_data"
    }
   ],
   "source": [
    "tail(release_year, 2) #last two items"
   ]
  },
  {
   "cell_type": "markdown",
   "metadata": {},
   "source": [
    "### Sorting a vector\n"
   ]
  },
  {
   "cell_type": "markdown",
   "metadata": {},
   "source": [
    "We can also sort a vector:\n"
   ]
  },
  {
   "cell_type": "code",
   "execution_count": 12,
   "metadata": {
    "vscode": {
     "languageId": "r"
    }
   },
   "outputs": [
    {
     "data": {
      "text/html": [
       "<ol class=list-inline>\n",
       "\t<li>1964</li>\n",
       "\t<li>1985</li>\n",
       "\t<li>1999</li>\n",
       "\t<li>2015</li>\n",
       "\t<li>2016</li>\n",
       "\t<li>2017</li>\n",
       "\t<li>2018</li>\n",
       "</ol>\n"
      ],
      "text/latex": [
       "\\begin{enumerate*}\n",
       "\\item 1964\n",
       "\\item 1985\n",
       "\\item 1999\n",
       "\\item 2015\n",
       "\\item 2016\n",
       "\\item 2017\n",
       "\\item 2018\n",
       "\\end{enumerate*}\n"
      ],
      "text/markdown": [
       "1. 1964\n",
       "2. 1985\n",
       "3. 1999\n",
       "4. 2015\n",
       "5. 2016\n",
       "6. 2017\n",
       "7. 2018\n",
       "\n",
       "\n"
      ],
      "text/plain": [
       "[1] 1964 1985 1999 2015 2016 2017 2018"
      ]
     },
     "metadata": {},
     "output_type": "display_data"
    }
   ],
   "source": [
    "sort(release_year)"
   ]
  },
  {
   "cell_type": "markdown",
   "metadata": {},
   "source": [
    "We can also **sort in decreasing order**:\n"
   ]
  },
  {
   "cell_type": "code",
   "execution_count": 13,
   "metadata": {
    "vscode": {
     "languageId": "r"
    }
   },
   "outputs": [
    {
     "data": {
      "text/html": [
       "<ol class=list-inline>\n",
       "\t<li>2018</li>\n",
       "\t<li>2017</li>\n",
       "\t<li>2016</li>\n",
       "\t<li>2015</li>\n",
       "\t<li>1999</li>\n",
       "\t<li>1985</li>\n",
       "\t<li>1964</li>\n",
       "</ol>\n"
      ],
      "text/latex": [
       "\\begin{enumerate*}\n",
       "\\item 2018\n",
       "\\item 2017\n",
       "\\item 2016\n",
       "\\item 2015\n",
       "\\item 1999\n",
       "\\item 1985\n",
       "\\item 1964\n",
       "\\end{enumerate*}\n"
      ],
      "text/markdown": [
       "1. 2018\n",
       "2. 2017\n",
       "3. 2016\n",
       "4. 2015\n",
       "5. 1999\n",
       "6. 1985\n",
       "7. 1964\n",
       "\n",
       "\n"
      ],
      "text/plain": [
       "[1] 2018 2017 2016 2015 1999 1985 1964"
      ]
     },
     "metadata": {},
     "output_type": "display_data"
    }
   ],
   "source": [
    "sort(release_year, ........................)"
   ]
  },
  {
   "cell_type": "markdown",
   "metadata": {},
   "source": [
    "But if you just want the minimum and maximum values of a vector, you can use the **`min()`** and **`max()`** functions\n"
   ]
  },
  {
   "cell_type": "code",
   "execution_count": 14,
   "metadata": {
    "vscode": {
     "languageId": "r"
    }
   },
   "outputs": [
    {
     "data": {
      "text/html": [
       "1964"
      ],
      "text/latex": [
       "1964"
      ],
      "text/markdown": [
       "1964"
      ],
      "text/plain": [
       "[1] 1964"
      ]
     },
     "metadata": {},
     "output_type": "display_data"
    },
    {
     "data": {
      "text/html": [
       "2018"
      ],
      "text/latex": [
       "2018"
      ],
      "text/markdown": [
       "2018"
      ],
      "text/plain": [
       "[1] 2018"
      ]
     },
     "metadata": {},
     "output_type": "display_data"
    }
   ],
   "source": [
    "min(................)\n",
    "m...........(release_year)"
   ]
  },
  {
   "cell_type": "markdown",
   "metadata": {},
   "source": [
    "### Average of Numbers\n"
   ]
  },
  {
   "cell_type": "markdown",
   "metadata": {},
   "source": [
    "If you want to check the average cost of movies produced in 2014, what would you do? \n",
    "\n",
    "Of course, one way is to add all the numbers together, then divide by the number of movies:\n"
   ]
  },
  {
   "cell_type": "code",
   "execution_count": null,
   "metadata": {
    "vscode": {
     "languageId": "r"
    }
   },
   "outputs": [],
   "source": [
    "cost_2014 <- c(8.6, 8.5, 8.1)\n",
    "\n",
    "# sum results in the sum of all elements in the vector\n",
    "avg_cost_2014 <- sum(.................)/3\n",
    "avg_cost_2014"
   ]
  },
  {
   "cell_type": "markdown",
   "metadata": {},
   "source": [
    "You also can use the <b>mean</b> function to find the average of the numeric values in a vector:\n"
   ]
  },
  {
   "cell_type": "code",
   "execution_count": null,
   "metadata": {
    "vscode": {
     "languageId": "r"
    }
   },
   "outputs": [],
   "source": [
    "mean_cost_2014 <- mea......................\n",
    "mean_cost_2014"
   ]
  },
  {
   "cell_type": "markdown",
   "metadata": {},
   "source": [
    "### Giving Names to Values in a Vector\n"
   ]
  },
  {
   "cell_type": "markdown",
   "metadata": {},
   "source": [
    "Suppose you want to remember which year corresponds to which movie.\n",
    "\n",
    "With vectors, you can give names to the elements of a vector using the `names()` function:\n"
   ]
  },
  {
   "cell_type": "code",
   "execution_count": null,
   "metadata": {
    "vscode": {
     "languageId": "r"
    }
   },
   "outputs": [],
   "source": [
    "#Creating a year vector\n",
    "release_year <- c(1985, 1999, 2010, 2002)\n",
    "\n",
    "#Assigning names\n",
    "names(release_year) <- c(\"The Breakfast Club\", \"American Beauty\", \"Black Swan\", \"Chicago\")\n",
    "\n",
    "release_year"
   ]
  },
  {
   "cell_type": "markdown",
   "metadata": {},
   "source": [
    "Now, you can retrieve the values based on the names:\n"
   ]
  },
  {
   "cell_type": "code",
   "execution_count": null,
   "metadata": {
    "vscode": {
     "languageId": "r"
    }
   },
   "outputs": [],
   "source": [
    "release_year[c(\"American Beauty\", \"Chicago\")]"
   ]
  },
  {
   "cell_type": "markdown",
   "metadata": {},
   "source": [
    "Note that the values of the vector are still the years. We can see this in action by adding a number to the first item:\n"
   ]
  },
  {
   "cell_type": "code",
   "execution_count": null,
   "metadata": {
    "vscode": {
     "languageId": "r"
    }
   },
   "outputs": [],
   "source": [
    "release_year[1] + 100 #adding 100 to the first item changes the year"
   ]
  },
  {
   "cell_type": "markdown",
   "metadata": {},
   "source": [
    "And you can retrieve the names of the vector using **`names()`**\n"
   ]
  },
  {
   "cell_type": "code",
   "execution_count": null,
   "metadata": {
    "vscode": {
     "languageId": "r"
    }
   },
   "outputs": [],
   "source": [
    "names(release_year)"
   ]
  },
  {
   "cell_type": "markdown",
   "metadata": {},
   "source": [
    "**Coding Exercise:** in the code cell below, calculate the release year difference between 'Black Swan' and 'The Breakfast Club' \n"
   ]
  },
  {
   "cell_type": "code",
   "execution_count": null,
   "metadata": {
    "vscode": {
     "languageId": "r"
    }
   },
   "outputs": [],
   "source": [
    "# Write your code below. Don't forget to press Shift+Enter to execute the cell\n"
   ]
  },
  {
   "cell_type": "markdown",
   "metadata": {},
   "source": [
    "<details><summary>Click here for the solution</summary>\n",
    "\n",
    "```R\n",
    "year_difference <- release_year[..........................] - release_year[....................]\n",
    "year_difference\n",
    "```\n",
    "\n",
    "</details>\n"
   ]
  },
  {
   "cell_type": "markdown",
   "metadata": {},
   "source": [
    "### Summarizing Vectors\n"
   ]
  },
  {
   "cell_type": "markdown",
   "metadata": {},
   "source": [
    "You can also use the **\"summary\"** function for simple descriptive statistics: minimum, first quartile, mean, third quartile, maximum:\n"
   ]
  },
  {
   "cell_type": "code",
   "execution_count": null,
   "metadata": {
    "vscode": {
     "languageId": "r"
    }
   },
   "outputs": [],
   "source": [
    "summary(cost_2014)"
   ]
  },
  {
   "cell_type": "markdown",
   "metadata": {},
   "source": [
    "### Using Logical Operations on Vectors\n"
   ]
  },
  {
   "cell_type": "markdown",
   "metadata": {},
   "source": [
    "A vector can also be comprised of **`TRUE`** and **`FALSE`**, which are the **logical values** in R. These boolean values are used to indicate whether a condition is true or false.  \n",
    "\n",
    "Let's check whether a movie year of 1997 is older than (**greater in value than**) 2000.\n"
   ]
  },
  {
   "cell_type": "code",
   "execution_count": null,
   "metadata": {
    "vscode": {
     "languageId": "r"
    }
   },
   "outputs": [],
   "source": [
    "movie_year <- 1997\n",
    "movie_year > 2000"
   ]
  },
  {
   "cell_type": "markdown",
   "metadata": {},
   "source": [
    "You can also make a logical comparison across multiple items in a vector. Which movie release years here are \"greater\" than 2014?\n"
   ]
  },
  {
   "cell_type": "code",
   "execution_count": null,
   "metadata": {
    "vscode": {
     "languageId": "r"
    }
   },
   "outputs": [],
   "source": [
    "movies_years <- c(1998, 2010, 2016)\n",
    "movies_years > 2014"
   ]
  },
  {
   "cell_type": "markdown",
   "metadata": {},
   "source": [
    "We can also check for **equivalence**, using **`==`**. Let's check which movie year is equal to 2015.\n"
   ]
  },
  {
   "cell_type": "code",
   "execution_count": null,
   "metadata": {
    "vscode": {
     "languageId": "r"
    }
   },
   "outputs": [],
   "source": [
    "movies_years == 2015 # is equal to 2015?"
   ]
  },
  {
   "cell_type": "markdown",
   "metadata": {},
   "source": [
    "If you want to check which ones are **not equal** to 2015, you can use **`!=`**\n"
   ]
  },
  {
   "cell_type": "code",
   "execution_count": 3,
   "metadata": {
    "vscode": {
     "languageId": "r"
    }
   },
   "outputs": [
    {
     "ename": "ERROR",
     "evalue": "Error in eval(expr, envir, enclos): object 'movies_years' not found\n",
     "output_type": "error",
     "traceback": [
      "Error in eval(expr, envir, enclos): object 'movies_years' not found\nTraceback:\n"
     ]
    }
   ],
   "source": [
    "movies_years != 2015"
   ]
  },
  {
   "cell_type": "markdown",
   "metadata": {},
   "source": [
    "<hr></hr>\n",
    "<div class=\"alert alert-success alertsuccess\" style=\"margin-top: 20px\">\n",
    "<h4> [Tip] Logical Operators in R </h4>\n",
    "<p></p>\n",
    "You can do a variety of logical operations in R including:  \n",
    "<li> Checking equivalence: $1 == 2$ </li>\n",
    "<li> Checking non-equivalence: $TRUE != FALSE$ </li>\n",
    "<li> Greater than: $100 > 1$ </li>\n",
    "<li> Greater than or equal to: $100 >= 1$ </li>\n",
    "<li> Less than: $1 < 2$ </li>\n",
    "<li> Less than or equal to: $1 <= 2$ </li>\n",
    "</div>\n",
    "<hr></hr>\n"
   ]
  },
  {
   "cell_type": "markdown",
   "metadata": {},
   "source": [
    "<a id=\"ref3\"></a>\n",
    "\n",
    "<center><h2>Subsetting Vectors</h2><center>\n"
   ]
  },
  {
   "cell_type": "markdown",
   "metadata": {},
   "source": [
    "What if you wanted to retrieve the second year from the following **vector of movie years**?\n"
   ]
  },
  {
   "cell_type": "code",
   "execution_count": null,
   "metadata": {
    "vscode": {
     "languageId": "r"
    }
   },
   "outputs": [],
   "source": [
    "movie_years <- c(1985, 1999, 2002, 2010, 2012)\n",
    "movie_years"
   ]
  },
  {
   "cell_type": "markdown",
   "metadata": {},
   "source": [
    "To retrieve the **second year**, you can use square brackets **`[]`**:\n"
   ]
  },
  {
   "cell_type": "code",
   "execution_count": null,
   "metadata": {
    "vscode": {
     "languageId": "r"
    }
   },
   "outputs": [],
   "source": [
    "movie_years[2] #second item"
   ]
  },
  {
   "cell_type": "markdown",
   "metadata": {},
   "source": [
    "To retrieve the **third year**, you can use:\n"
   ]
  },
  {
   "cell_type": "code",
   "execution_count": null,
   "metadata": {
    "vscode": {
     "languageId": "r"
    }
   },
   "outputs": [],
   "source": [
    "movie_years[3]"
   ]
  },
  {
   "cell_type": "markdown",
   "metadata": {},
   "source": [
    "And if you want to retrieve **multiple items**, you can pass in a vector:\n"
   ]
  },
  {
   "cell_type": "code",
   "execution_count": null,
   "metadata": {
    "vscode": {
     "languageId": "r"
    }
   },
   "outputs": [],
   "source": [
    "movie_years[c(1,3)] #first and third items"
   ]
  },
  {
   "cell_type": "markdown",
   "metadata": {},
   "source": [
    "You can also get a sequential subset as follows:\n"
   ]
  },
  {
   "cell_type": "code",
   "execution_count": null,
   "metadata": {
    "vscode": {
     "languageId": "r"
    }
   },
   "outputs": [],
   "source": [
    "movie_years[c(2:4)] #second to fourth items"
   ]
  },
  {
   "cell_type": "markdown",
   "metadata": {},
   "source": [
    "or, more succinctly:\n"
   ]
  },
  {
   "cell_type": "code",
   "execution_count": null,
   "metadata": {
    "vscode": {
     "languageId": "r"
    }
   },
   "outputs": [],
   "source": [
    "movie_years[2:4]"
   ]
  },
  {
   "cell_type": "markdown",
   "metadata": {},
   "source": [
    "**Retrieving a vector without some of its items**\n",
    "\n",
    "To retrieve a vector without an item, you can use negative indexing. For example, the following returns a vector slice **without the first item**.\n"
   ]
  },
  {
   "cell_type": "code",
   "execution_count": null,
   "metadata": {
    "vscode": {
     "languageId": "r"
    }
   },
   "outputs": [],
   "source": [
    "titles <- c(\"Black Swan\", \"Jumanji\", \"City of God\", \"Toy Story\", \"Casino\")\n",
    "titles[.........................]"
   ]
  },
  {
   "cell_type": "markdown",
   "metadata": {},
   "source": [
    "You can assign the new vector to a new variable:\n"
   ]
  },
  {
   "cell_type": "code",
   "execution_count": null,
   "metadata": {
    "vscode": {
     "languageId": "r"
    }
   },
   "outputs": [],
   "source": [
    "new_titles <- titles[...................] #removes \"Black Swan\", the first item\n",
    "new_titles"
   ]
  },
  {
   "cell_type": "markdown",
   "metadata": {},
   "source": [
    "**Missing Values (NA)**\n",
    "\n",
    "Sometimes values in a vector are missing and you have to show them using NA, which is a special value in R for \"Not Available\". For example, if you don't know the age restriction for some movies, you can use NA.\n"
   ]
  },
  {
   "cell_type": "code",
   "execution_count": null,
   "metadata": {
    "vscode": {
     "languageId": "r"
    }
   },
   "outputs": [],
   "source": [
    "age_restric <- c(14, 12, 10, NA, 18, NA)\n",
    "age_restric"
   ]
  },
  {
   "cell_type": "markdown",
   "metadata": {},
   "source": [
    "<div class=\"alert alert-success alertsuccess\" style=\"margin-top: 20px\">\n",
    "<h4> [Tip] Checking NA in R </h4>\n",
    "<p></p>\n",
    "You can check if a value is NA by using the **is.na()** function, which returns TRUE or FALSE. \n",
    "<li> Check if NA: is.na(NA)  </li>\n",
    "<li> Check if not NA:  !is.na(2) </li>\n",
    "</div>\n"
   ]
  },
  {
   "cell_type": "markdown",
   "metadata": {},
   "source": [
    "### Subsetting vectors based on a logical condition\n"
   ]
  },
  {
   "cell_type": "markdown",
   "metadata": {},
   "source": [
    "What if we want to know which movies were created after year 2000? We can simply apply a logical comparison across all the items in a vector:\n"
   ]
  },
  {
   "cell_type": "code",
   "execution_count": null,
   "metadata": {
    "vscode": {
     "languageId": "r"
    }
   },
   "outputs": [],
   "source": [
    "release_year > 2000"
   ]
  },
  {
   "cell_type": "markdown",
   "metadata": {},
   "source": [
    "To retrieve the actual movie years after year 2000, you can simply subset the vector using the logical vector within **square brackets \"\\[]\"**:\n"
   ]
  },
  {
   "cell_type": "code",
   "execution_count": null,
   "metadata": {
    "vscode": {
     "languageId": "r"
    }
   },
   "outputs": [],
   "source": [
    "release_year[release_year > 2000] #returns a vector for elements that returned TRUE for the condition"
   ]
  },
  {
   "cell_type": "markdown",
   "metadata": {},
   "source": [
    "As you may notice, subsetting vectors in R works by retrieving items that were TRUE for the provided condition. For example, `year[year > 2000]` can be verbally explained as: _\"From the vector `year`, return only values where the values are TRUE for `year > 2000`\"_.\n",
    "\n",
    "You can even manually write out TRUE or T for the values you want to subset:\n"
   ]
  },
  {
   "cell_type": "code",
   "execution_count": null,
   "metadata": {
    "vscode": {
     "languageId": "r"
    }
   },
   "outputs": [],
   "source": [
    "release_year\n",
    "release_year[c(T, F, F, F)] #returns the values for which the value's index is TRUE"
   ]
  },
  {
   "cell_type": "markdown",
   "metadata": {},
   "source": [
    "**Coding Exercise:** in the code cell below, find movies whose release year in or prior to (include) 1999\n"
   ]
  },
  {
   "cell_type": "code",
   "execution_count": null,
   "metadata": {
    "vscode": {
     "languageId": "r"
    }
   },
   "outputs": [],
   "source": [
    "# Write your code below. Don't forget to press Shift+Enter to execute the cell\n"
   ]
  },
  {
   "cell_type": "markdown",
   "metadata": {},
   "source": [
    "<details><summary>Click here for the solution</summary>\n",
    "\n",
    "```R\n",
    "release_year[release_year .................... 1999]\n",
    "\n",
    "```\n",
    "\n",
    "</details>\n"
   ]
  },
  {
   "cell_type": "markdown",
   "metadata": {},
   "source": [
    "<a id=\"ref4\"></a>\n",
    "\n",
    "<center><h2>Factors</h2></center>\n"
   ]
  },
  {
   "cell_type": "markdown",
   "metadata": {},
   "source": [
    "Factors are variables in R which take values from a fixed, discrete set of values, or levels. Such variables are commonly referred to as  **categorical variables**. \n",
    "\n",
    "The difference between a categorical variable and a numeric variable is that a categorical variable expresses qualitative values --attributes such as ‘age group’, ‘gender’, or ‘favourite music genre’, while numerical variables express quantitative information – data that can be interpreted mathematically, such as ‘fuel economy in MPG’, ‘price per bushel’,‘age’. \n",
    "\n",
    "For example, the height of a tree is a measured numeric variable, but the titles of books held in a particular library, or the various species of animals on earth are categorical variables. Categorical variables need not be expressed as text. Indeed, factors in R are actually stored as a vector of integer values – they carry a corresponding set of character values but these are only used for display purposes.\n",
    "\n",
    "One of the most important uses of factors in statistical modeling; since categorical variables enter into statistical models differently than continuous variables, storing data as factors ensure that the modeling functions will treat such data correctly.\n"
   ]
  },
  {
   "cell_type": "markdown",
   "metadata": {},
   "source": [
    "Let's start with a _**vector**_ of genres:\n"
   ]
  },
  {
   "cell_type": "code",
   "execution_count": null,
   "metadata": {
    "vscode": {
     "languageId": "r"
    }
   },
   "outputs": [],
   "source": [
    "genre_vector <- c(\"Comedy\", \"Animation\", \"Crime\", \"Comedy\", \"Animation\")\n",
    "genre_vector"
   ]
  },
  {
   "cell_type": "markdown",
   "metadata": {},
   "source": [
    "As you may have noticed, you can theoretically group the items above into three categories of genres: _Animation_, _Comedy_ and _Crime_. In R-terms, we call these categories **\"factor levels\"**.\n",
    "\n",
    "The function **factor()** converts a vector into a factor, and creates a factor level for each unique element.\n"
   ]
  },
  {
   "cell_type": "code",
   "execution_count": null,
   "metadata": {
    "vscode": {
     "languageId": "r"
    }
   },
   "outputs": [],
   "source": [
    "genre_factor <- as.factor(genre_vector)\n",
    "levels(genre_factor)"
   ]
  },
  {
   "cell_type": "markdown",
   "metadata": {},
   "source": [
    "### Summarizing Factors\n"
   ]
  },
  {
   "cell_type": "markdown",
   "metadata": {},
   "source": [
    "When you have a large vector, it becomes difficult to identify which levels are most common (e.g., \"How many 'Comedy' movies are there?\").\n",
    "\n",
    "To answer this, we can use **summary()**, which produces a **frequency table**, as a named vector.\n"
   ]
  },
  {
   "cell_type": "code",
   "execution_count": null,
   "metadata": {
    "vscode": {
     "languageId": "r"
    }
   },
   "outputs": [],
   "source": [
    "summary(genre_factor)"
   ]
  },
  {
   "cell_type": "markdown",
   "metadata": {},
   "source": [
    "And recall that you can sort the values of the table using **sort()**.\n"
   ]
  },
  {
   "cell_type": "code",
   "execution_count": null,
   "metadata": {
    "vscode": {
     "languageId": "r"
    }
   },
   "outputs": [],
   "source": [
    "sort(summary(genre_factor)) #sorts values by ascending order"
   ]
  },
  {
   "cell_type": "markdown",
   "metadata": {},
   "source": [
    "### Ordered factors\n"
   ]
  },
  {
   "cell_type": "markdown",
   "metadata": {},
   "source": [
    "There are two types of categorical variables: a **nominal categorical variable** and an **ordinal categorical variable**.\n",
    "\n",
    "A **nominal variable** is a categorical variable for names, without an implied order. This means that it is impossible to say that 'one is better or larger than the other'. For example, consider **movie genre** with the categories _Comedy_, _Animation_, _Crime_, _Comedy_, _Animation_. Here, there is no implicit order of low-to-high or high-to-low between the categories. \n",
    "\n",
    "In contrast, **ordinal variables** do have a natural ordering. Consider for example, **movie length** with the categories: _Very short_, _Short_ , _Medium_, _Long_, _Very long_. Here it is obvious that _Medium_ stands above _Short_, and _Long_ stands above _Medium_.\n"
   ]
  },
  {
   "cell_type": "code",
   "execution_count": null,
   "metadata": {
    "vscode": {
     "languageId": "r"
    }
   },
   "outputs": [],
   "source": [
    "movie_length <- c(\"Very Short\", \"Short\", \"Medium\",\"Short\", \"Long\",\n",
    "                        \"Very Short\", \"Very Long\")\n",
    "movie_length"
   ]
  },
  {
   "cell_type": "markdown",
   "metadata": {},
   "source": [
    "**`movie_length`** should be converted to an ordinal factor since its categories have a natural ordering. By default, the function <b>factor()</b> transforms `movie_length` into an unordered factor. \n",
    "\n",
    "To create an **ordered factor**, you have to add two additional arguments: `ordered` and `levels`. \n",
    "\n",
    "-   `ordered`: When set to `TRUE` in `factor()`, you indicate that the factor is ordered. \n",
    "-   `levels`: In this argument in `factor()`, you give the values of the factor in the correct order.\n"
   ]
  },
  {
   "cell_type": "code",
   "execution_count": null,
   "metadata": {
    "vscode": {
     "languageId": "r"
    }
   },
   "outputs": [],
   "source": [
    "movie_length_ordered <- factor(movie_length, ordered = TRUE, \n",
    "                               levels = c(\"Very Short\", \"Short\", \"Medium\", \"Long\", \"Very Long\"))\n",
    "movie_length_ordered"
   ]
  },
  {
   "cell_type": "markdown",
   "metadata": {},
   "source": [
    "Now, lets look at the summary of the ordered factor, <b>movie_length_ordered</b>:\n"
   ]
  },
  {
   "cell_type": "code",
   "execution_count": null,
   "metadata": {
    "vscode": {
     "languageId": "r"
    }
   },
   "outputs": [],
   "source": [
    "summary(movie_length_ordered)"
   ]
  },
  {
   "cell_type": "markdown",
   "metadata": {},
   "source": [
    "**Coding Exercise:** in the code cell below, update the order of the movie_length factor from `Very Long` to `Very Short`\n"
   ]
  },
  {
   "cell_type": "code",
   "execution_count": null,
   "metadata": {
    "vscode": {
     "languageId": "r"
    }
   },
   "outputs": [],
   "source": [
    "# Write your code below. Don't forget to press Shift+Enter to execute the cell\n"
   ]
  },
  {
   "cell_type": "markdown",
   "metadata": {},
   "source": [
    "<details><summary>Click here for the solution</summary>\n",
    "\n",
    "```R\n",
    "movie_length_ordered <- factor(movie_length, ordered = TRUE , \n",
    "                                 levels = c(\"V.....................\", \"Lo..............\", \"Me............\", \n",
    "                                            \"Short\", \"Very Short\"))\n",
    "movie_length_ordered\n",
    "```\n",
    "\n",
    "</details>\n"
   ]
  },
  {
   "cell_type": "markdown",
   "metadata": {},
   "source": [
    "\n"
   ]
  },
  {
   "cell_type": "markdown",
   "metadata": {},
   "source": [
    "<hr>\n"
   ]
  },
  {
   "cell_type": "markdown",
   "metadata": {},
   "source": [
    "#### Scaling R with big data\n",
    "\n",
    "As you learn more about R, if you are interested in exploring platforms that can help you run analyses at scale, you might want to sign up for a free account on [IBM Watson Studio](http://cocl.us/dsx_rp0101en), which allows you to run analyses in R with two Spark executors for free.\n"
   ]
  },
  {
   "cell_type": "markdown",
   "metadata": {},
   "source": [
    "\n"
   ]
  },
  {
   "cell_type": "markdown",
   "metadata": {},
   "source": []
  },
  {
   "cell_type": "markdown",
   "metadata": {},
   "source": [
    "\n"
   ]
  }
 ],
 "metadata": {
  "kernelspec": {
   "display_name": "R",
   "language": "R",
   "name": "ir"
  },
  "language_info": {
   "codemirror_mode": "r",
   "file_extension": ".r",
   "mimetype": "text/x-r-source",
   "name": "R",
   "pygments_lexer": "r",
   "version": "3.6.1"
  }
 },
 "nbformat": 4,
 "nbformat_minor": 4
}
